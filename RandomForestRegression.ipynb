{
 "cells": [
  {
   "cell_type": "code",
   "execution_count": 2,
   "metadata": {},
   "outputs": [
    {
     "name": "stderr",
     "output_type": "stream",
     "text": [
      "C:\\Anaconda3\\lib\\site-packages\\sklearn\\ensemble\\weight_boosting.py:29: DeprecationWarning: numpy.core.umath_tests is an internal NumPy module and should not be imported. It will be removed in a future NumPy release.\n",
      "  from numpy.core.umath_tests import inner1d\n"
     ]
    }
   ],
   "source": [
    "import pandas as pd\n",
    "import matplotlib.pyplot as plt\n",
    "import numpy as np\n",
    "from GetAprilTrainTestData import GetAprilTrainTestData\n",
    "from sklearn.ensemble import RandomForestRegressor"
   ]
  },
  {
   "cell_type": "code",
   "execution_count": 3,
   "metadata": {},
   "outputs": [
    {
     "name": "stdout",
     "output_type": "stream",
     "text": [
      "13413 13413\n"
     ]
    }
   ],
   "source": [
    "X_raw, y = GetAprilTrainTestData()"
   ]
  },
  {
   "cell_type": "code",
   "execution_count": 4,
   "metadata": {},
   "outputs": [
    {
     "name": "stdout",
     "output_type": "stream",
     "text": [
      "Shape (13413, 3947)\n"
     ]
    }
   ],
   "source": [
    "# Now need to one hot encode all the stuff in X that is categorical. \n",
    "X = pd.get_dummies(X_raw)\n",
    "print(\"Shape\", X.shape)"
   ]
  },
  {
   "cell_type": "code",
   "execution_count": 5,
   "metadata": {},
   "outputs": [
    {
     "name": "stdout",
     "output_type": "stream",
     "text": [
      "10059 10059 3354 3354\n"
     ]
    }
   ],
   "source": [
    "from sklearn.model_selection import train_test_split\n",
    "X_train, X_test, y_train, y_test = train_test_split(X, y, random_state=20)\n",
    "print(len(X_train), len(y_train), len(X_test), len(y_test))"
   ]
  },
  {
   "cell_type": "code",
   "execution_count": 6,
   "metadata": {},
   "outputs": [
    {
     "data": {
      "text/plain": [
       "RandomForestRegressor(bootstrap=True, criterion='mse', max_depth=None,\n",
       "           max_features='auto', max_leaf_nodes=None,\n",
       "           min_impurity_decrease=0.0, min_impurity_split=None,\n",
       "           min_samples_leaf=5, min_samples_split=2,\n",
       "           min_weight_fraction_leaf=0.0, n_estimators=400, n_jobs=-1,\n",
       "           oob_score=False, random_state=0, verbose=0, warm_start=False)"
      ]
     },
     "execution_count": 6,
     "metadata": {},
     "output_type": "execute_result"
    }
   ],
   "source": [
    "regr = RandomForestRegressor(random_state=0, n_estimators=400, n_jobs=-1, min_samples_leaf = 5)\n",
    "regr.fit(X_train, np.concatenate(y_train, axis=0))\n"
   ]
  },
  {
   "cell_type": "code",
   "execution_count": 7,
   "metadata": {},
   "outputs": [
    {
     "name": "stdout",
     "output_type": "stream",
     "text": [
      "R2 Score: 0.694301669012809\n"
     ]
    }
   ],
   "source": [
    "score = regr.score(X_test, y_test)\n",
    "print(f\"R2 Score: {score}\")"
   ]
  },
  {
   "cell_type": "code",
   "execution_count": 8,
   "metadata": {},
   "outputs": [
    {
     "data": {
      "text/plain": [
       "3947"
      ]
     },
     "execution_count": 8,
     "metadata": {},
     "output_type": "execute_result"
    }
   ],
   "source": [
    "len(regr.feature_importances_)"
   ]
  },
  {
   "cell_type": "code",
   "execution_count": 9,
   "metadata": {},
   "outputs": [
    {
     "data": {
      "image/png": "[encoded data removed]",
      "text/plain": [
       "<matplotlib.figure.Figure at 0x1c6474e0>"
      ]
     },
     "metadata": {},
     "output_type": "display_data"
    }
   ],
   "source": [
    "predictions = regr.predict(X_test)\n",
    "plt.scatter(predictions, predictions - np.concatenate(y_test, axis=0))\n",
    "plt.hlines(y=0, xmin=predictions.min(), xmax=predictions.max())\n",
    "plt.show()"
   ]
  },
  {
   "cell_type": "code",
   "execution_count": 10,
   "metadata": {},
   "outputs": [
    {
     "data": {
      "image/png": "[encoded data removed]",
      "text/plain": [
       "<matplotlib.figure.Figure at 0x1c65e9e8>"
      ]
     },
     "metadata": {},
     "output_type": "display_data"
    }
   ],
   "source": [
    "plt.scatter(predictions, np.concatenate(y_test, axis=0))\n",
    "plt.hlines(y=0, xmin=predictions.min(), xmax=predictions.max())\n",
    "plt.show()"
   ]
  },
  {
   "cell_type": "code",
   "execution_count": 11,
   "metadata": {},
   "outputs": [
    {
     "data": {
      "text/html": [
       "<div>\n",
       "<style scoped>\n",
       "    .dataframe tbody tr th:only-of-type {\n",
       "        vertical-align: middle;\n",
       "    }\n",
       "\n",
       "    .dataframe tbody tr th {\n",
       "        vertical-align: top;\n",
       "    }\n",
       "\n",
       "    .dataframe thead th {\n",
       "        text-align: right;\n",
       "    }\n",
       "</style>\n",
       "<table border=\"1\" class=\"dataframe\">\n",
       "  <thead>\n",
       "    <tr style=\"text-align: right;\">\n",
       "      <th></th>\n",
       "      <th>SETUP_TIME</th>\n",
       "      <th>CYCLES</th>\n",
       "      <th>TESTED_UNITS</th>\n",
       "      <th>RESCREEN_RULE</th>\n",
       "      <th>MSE_RULE</th>\n",
       "      <th>SPC_RULE</th>\n",
       "      <th>INDEX_RULE</th>\n",
       "      <th>MCBJ_RULE</th>\n",
       "      <th>SETUPTIME_RULE</th>\n",
       "      <th>MSE_UNIT</th>\n",
       "      <th>...</th>\n",
       "      <th>TESTERHEAD_vl80_1</th>\n",
       "      <th>TESTERHEAD_vl81_1</th>\n",
       "      <th>TESTERHEAD_vl91_1</th>\n",
       "      <th>TESTERHEAD_vl93_1</th>\n",
       "      <th>TESTERHEAD_vl95_1</th>\n",
       "      <th>TESTERHEAD_vl98_1</th>\n",
       "      <th>TESTERHEAD_vl99_1</th>\n",
       "      <th>TESTERHEAD_vl9_1</th>\n",
       "      <th>MSYE</th>\n",
       "      <th>Predictions</th>\n",
       "    </tr>\n",
       "  </thead>\n",
       "  <tbody>\n",
       "    <tr>\n",
       "      <th>20042</th>\n",
       "      <td>48.6</td>\n",
       "      <td>665</td>\n",
       "      <td>2880</td>\n",
       "      <td>1</td>\n",
       "      <td>1</td>\n",
       "      <td>1</td>\n",
       "      <td>1</td>\n",
       "      <td>1</td>\n",
       "      <td>1</td>\n",
       "      <td>0.998</td>\n",
       "      <td>...</td>\n",
       "      <td>0</td>\n",
       "      <td>0</td>\n",
       "      <td>0</td>\n",
       "      <td>0</td>\n",
       "      <td>0</td>\n",
       "      <td>0</td>\n",
       "      <td>0</td>\n",
       "      <td>0</td>\n",
       "      <td>0.986</td>\n",
       "      <td>0.985842</td>\n",
       "    </tr>\n",
       "    <tr>\n",
       "      <th>15876</th>\n",
       "      <td>15.5</td>\n",
       "      <td>224</td>\n",
       "      <td>2278</td>\n",
       "      <td>0</td>\n",
       "      <td>1</td>\n",
       "      <td>1</td>\n",
       "      <td>1</td>\n",
       "      <td>1</td>\n",
       "      <td>1</td>\n",
       "      <td>0.999</td>\n",
       "      <td>...</td>\n",
       "      <td>0</td>\n",
       "      <td>0</td>\n",
       "      <td>0</td>\n",
       "      <td>0</td>\n",
       "      <td>0</td>\n",
       "      <td>0</td>\n",
       "      <td>0</td>\n",
       "      <td>0</td>\n",
       "      <td>0.780</td>\n",
       "      <td>0.858396</td>\n",
       "    </tr>\n",
       "    <tr>\n",
       "      <th>28664</th>\n",
       "      <td>2.1</td>\n",
       "      <td>190</td>\n",
       "      <td>1752</td>\n",
       "      <td>1</td>\n",
       "      <td>1</td>\n",
       "      <td>1</td>\n",
       "      <td>1</td>\n",
       "      <td>1</td>\n",
       "      <td>1</td>\n",
       "      <td>1.000</td>\n",
       "      <td>...</td>\n",
       "      <td>0</td>\n",
       "      <td>0</td>\n",
       "      <td>0</td>\n",
       "      <td>0</td>\n",
       "      <td>0</td>\n",
       "      <td>0</td>\n",
       "      <td>0</td>\n",
       "      <td>0</td>\n",
       "      <td>0.990</td>\n",
       "      <td>0.990171</td>\n",
       "    </tr>\n",
       "    <tr>\n",
       "      <th>17675</th>\n",
       "      <td>1.5</td>\n",
       "      <td>694</td>\n",
       "      <td>6042</td>\n",
       "      <td>0</td>\n",
       "      <td>1</td>\n",
       "      <td>1</td>\n",
       "      <td>1</td>\n",
       "      <td>1</td>\n",
       "      <td>1</td>\n",
       "      <td>0.998</td>\n",
       "      <td>...</td>\n",
       "      <td>0</td>\n",
       "      <td>0</td>\n",
       "      <td>0</td>\n",
       "      <td>0</td>\n",
       "      <td>0</td>\n",
       "      <td>0</td>\n",
       "      <td>0</td>\n",
       "      <td>0</td>\n",
       "      <td>0.921</td>\n",
       "      <td>0.923120</td>\n",
       "    </tr>\n",
       "    <tr>\n",
       "      <th>12546</th>\n",
       "      <td>16.2</td>\n",
       "      <td>477</td>\n",
       "      <td>1080</td>\n",
       "      <td>1</td>\n",
       "      <td>1</td>\n",
       "      <td>1</td>\n",
       "      <td>1</td>\n",
       "      <td>1</td>\n",
       "      <td>1</td>\n",
       "      <td>1.000</td>\n",
       "      <td>...</td>\n",
       "      <td>0</td>\n",
       "      <td>0</td>\n",
       "      <td>0</td>\n",
       "      <td>0</td>\n",
       "      <td>0</td>\n",
       "      <td>0</td>\n",
       "      <td>0</td>\n",
       "      <td>0</td>\n",
       "      <td>0.997</td>\n",
       "      <td>0.992754</td>\n",
       "    </tr>\n",
       "  </tbody>\n",
       "</table>\n",
       "<p>5 rows × 3949 columns</p>\n",
       "</div>"
      ],
      "text/plain": [
       "       SETUP_TIME  CYCLES  TESTED_UNITS  RESCREEN_RULE  MSE_RULE  SPC_RULE  \\\n",
       "20042        48.6     665          2880              1         1         1   \n",
       "15876        15.5     224          2278              0         1         1   \n",
       "28664         2.1     190          1752              1         1         1   \n",
       "17675         1.5     694          6042              0         1         1   \n",
       "12546        16.2     477          1080              1         1         1   \n",
       "\n",
       "       INDEX_RULE  MCBJ_RULE  SETUPTIME_RULE  MSE_UNIT  ...  \\\n",
       "20042           1          1               1     0.998  ...   \n",
       "15876           1          1               1     0.999  ...   \n",
       "28664           1          1               1     1.000  ...   \n",
       "17675           1          1               1     0.998  ...   \n",
       "12546           1          1               1     1.000  ...   \n",
       "\n",
       "       TESTERHEAD_vl80_1  TESTERHEAD_vl81_1  TESTERHEAD_vl91_1  \\\n",
       "20042                  0                  0                  0   \n",
       "15876                  0                  0                  0   \n",
       "28664                  0                  0                  0   \n",
       "17675                  0                  0                  0   \n",
       "12546                  0                  0                  0   \n",
       "\n",
       "       TESTERHEAD_vl93_1  TESTERHEAD_vl95_1  TESTERHEAD_vl98_1  \\\n",
       "20042                  0                  0                  0   \n",
       "15876                  0                  0                  0   \n",
       "28664                  0                  0                  0   \n",
       "17675                  0                  0                  0   \n",
       "12546                  0                  0                  0   \n",
       "\n",
       "       TESTERHEAD_vl99_1  TESTERHEAD_vl9_1   MSYE  Predictions  \n",
       "20042                  0                 0  0.986     0.985842  \n",
       "15876                  0                 0  0.780     0.858396  \n",
       "28664                  0                 0  0.990     0.990171  \n",
       "17675                  0                 0  0.921     0.923120  \n",
       "12546                  0                 0  0.997     0.992754  \n",
       "\n",
       "[5 rows x 3949 columns]"
      ]
     },
     "execution_count": 11,
     "metadata": {},
     "output_type": "execute_result"
    }
   ],
   "source": [
    "out_df=pd.DataFrame(X_test)\n",
    "out_df.columns=X.columns\n",
    "out_df[\"MSYE\"] = list(np.concatenate(y_test, axis=0))\n",
    "out_df[\"Predictions\"] = predictions\n",
    "out_df.head()"
   ]
  },
  {
   "cell_type": "code",
   "execution_count": 12,
   "metadata": {},
   "outputs": [],
   "source": [
    "out_df.to_csv(\"data/product_test_data_RandomForest.csv\")"
   ]
  }
 ],
 "metadata": {
  "kernelspec": {
   "display_name": "Python 3",
   "language": "python",
   "name": "python3"
  },
  "language_info": {
   "codemirror_mode": {
    "name": "ipython",
    "version": 3
   },
   "file_extension": ".py",
   "mimetype": "text/x-python",
   "name": "python",
   "nbconvert_exporter": "python",
   "pygments_lexer": "ipython3",
   "version": "3.6.4"
  }
 },
 "nbformat": 4,
 "nbformat_minor": 2
}
