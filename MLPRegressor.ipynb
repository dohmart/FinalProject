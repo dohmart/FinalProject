{
 "cells": [
  {
   "cell_type": "code",
   "execution_count": 122,
   "metadata": {},
   "outputs": [],
   "source": [
    "import pandas as pd\n",
    "import matplotlib.pyplot as plt\n",
    "import numpy as np\n",
    "from GetAprilTrainTestData import GetAprilTrainTestData"
   ]
  },
  {
   "cell_type": "code",
   "execution_count": 123,
   "metadata": {},
   "outputs": [
    {
     "name": "stdout",
     "output_type": "stream",
     "text": [
      "7956 7956\n"
     ]
    }
   ],
   "source": [
    "X, y = GetAprilTrainTestData()"
   ]
  },
  {
   "cell_type": "code",
   "execution_count": 124,
   "metadata": {},
   "outputs": [
    {
     "name": "stdout",
     "output_type": "stream",
     "text": [
      "Shape (7956, 2743)\n"
     ]
    }
   ],
   "source": [
    "# Now need to one hot encode all the stuff in X that is categorical. \n",
    "X = pd.get_dummies(X)\n",
    "print(\"Shape\", X.shape)"
   ]
  },
  {
   "cell_type": "code",
   "execution_count": 144,
   "metadata": {},
   "outputs": [
    {
     "name": "stdout",
     "output_type": "stream",
     "text": [
      "5967 5967 1989 1989\n"
     ]
    }
   ],
   "source": [
    "from sklearn.model_selection import train_test_split\n",
    "X_train, X_test, y_train, y_test = train_test_split(X, y, random_state=20)\n",
    "print(len(X_train), len(y_train), len(X_test), len(y_test))"
   ]
  },
  {
   "cell_type": "code",
   "execution_count": 145,
   "metadata": {},
   "outputs": [],
   "source": [
    "# Scale the data. This may not be necessary for linear regressions, but will be if I go to some other scheme\n",
    "from sklearn.preprocessing import StandardScaler\n",
    "X_scaler = StandardScaler().fit(X_train)\n",
    "y_scaler = StandardScaler().fit(y_train)\n",
    "# Tranform all of the data based on the scaler fit calculated above\n",
    "X_train_scaled = X_scaler.transform(X_train)\n",
    "X_test_scaled = X_scaler.transform(X_test)\n",
    "y_train_scaled = y_scaler.transform(y_train)\n",
    "y_test_scaled = y_scaler.transform(y_test)"
   ]
  },
  {
   "cell_type": "code",
   "execution_count": 148,
   "metadata": {},
   "outputs": [
    {
     "name": "stdout",
     "output_type": "stream",
     "text": [
      "5967 5967 1989 1989\n",
      "Number of features =  2743\n",
      "(5967, 2743) (5967, 1) (1989, 2743) (1989, 1)\n"
     ]
    }
   ],
   "source": [
    "print(len(X_train_scaled), len(y_train_scaled), len(X_test_scaled), len(y_test_scaled))\n",
    "print(\"Number of features = \", len(X_train_scaled[0]))\n",
    "print(X_train_scaled.shape, y_train_scaled.shape, X_test_scaled.shape, y_test_scaled.shape)"
   ]
  },
  {
   "cell_type": "code",
   "execution_count": 179,
   "metadata": {},
   "outputs": [
    {
     "name": "stdout",
     "output_type": "stream",
     "text": [
      "R2 Score: 0.4949262071098176\n"
     ]
    }
   ],
   "source": [
    "from sklearn.neural_network import MLPRegressor\n",
    "model = MLPRegressor(hidden_layer_sizes=(100,100,100,100,100,100,100), max_iter=2000)\n",
    "\n",
    "# Fitting our model with all of our features in X\n",
    "model.fit(X_train_scaled, np.concatenate(y_train_scaled, axis=0))\n",
    "score = model.score(X_test_scaled, np.concatenate(y_test_scaled, axis=0))\n",
    "print(f\"R2 Score: {score}\")"
   ]
  },
  {
   "cell_type": "code",
   "execution_count": 175,
   "metadata": {},
   "outputs": [
    {
     "data": {
      "text/plain": [
       "0.509047327316177"
      ]
     },
     "execution_count": 175,
     "metadata": {},
     "output_type": "execute_result"
    }
   ],
   "source": [
    "# len(X_test_scaled), len(X_test_scaled[0])\n",
    "model.score(X_test_scaled, y_test_scaled)"
   ]
  },
  {
   "cell_type": "code",
   "execution_count": 176,
   "metadata": {},
   "outputs": [],
   "source": [
    "predictions= model.predict(X_test_scaled)"
   ]
  },
  {
   "cell_type": "code",
   "execution_count": 177,
   "metadata": {},
   "outputs": [],
   "source": [
    "X_train_recovered = X_scaler.inverse_transform(X_train_scaled)\n",
    "X_test_recovered = X_scaler.inverse_transform(X_test_scaled)\n",
    "y_train_recovered = y_scaler.inverse_transform(y_train_scaled)\n",
    "y_test_recovered = y_scaler.inverse_transform(y_test_scaled)\n",
    "predictions_recovered = y_scaler.inverse_transform(predictions)"
   ]
  },
  {
   "cell_type": "code",
   "execution_count": 178,
   "metadata": {},
   "outputs": [
    {
     "data": {
      "image/png": "[encoded data removed]",
      "text/plain": [
       "<matplotlib.figure.Figure at 0x6376b588>"
      ]
     },
     "metadata": {},
     "output_type": "display_data"
    }
   ],
   "source": [
    "plt.scatter(predictions_recovered, predictions_recovered - np.concatenate(y_test_recovered, axis=0))\n",
    "plt.hlines(y=0, xmin=predictions_recovered.min(), xmax=predictions_recovered.max())\n",
    "plt.show()"
   ]
  },
  {
   "cell_type": "code",
   "execution_count": 187,
   "metadata": {},
   "outputs": [
    {
     "data": {
      "text/plain": [
       "array([[8.00000000e+00, 3.20000000e+01, 3.92000000e+02, ...,\n",
       "        0.00000000e+00, 2.16840434e-19, 1.00000000e+00],\n",
       "       [2.98540000e+03, 3.50000000e+01, 1.64000000e+02, ...,\n",
       "        0.00000000e+00, 2.16840434e-19, 1.00000000e+00],\n",
       "       [1.89000000e+01, 4.20000000e+02, 9.59000000e+02, ...,\n",
       "        0.00000000e+00, 2.16840434e-19, 1.00000000e+00],\n",
       "       ...,\n",
       "       [3.38000000e+01, 4.58000000e+02, 2.03200000e+03, ...,\n",
       "        0.00000000e+00, 2.16840434e-19, 1.00000000e+00],\n",
       "       [5.80000000e+00, 2.32000000e+02, 2.88000000e+03, ...,\n",
       "        0.00000000e+00, 2.16840434e-19, 1.00000000e+00],\n",
       "       [1.10000000e+01, 4.19000000e+02, 1.79200000e+03, ...,\n",
       "        0.00000000e+00, 2.16840434e-19, 1.00000000e+00]])"
      ]
     },
     "execution_count": 187,
     "metadata": {},
     "output_type": "execute_result"
    }
   ],
   "source": []
  },
  {
   "cell_type": "code",
   "execution_count": 190,
   "metadata": {},
   "outputs": [
    {
     "data": {
      "text/html": [
       "<div>\n",
       "<style scoped>\n",
       "    .dataframe tbody tr th:only-of-type {\n",
       "        vertical-align: middle;\n",
       "    }\n",
       "\n",
       "    .dataframe tbody tr th {\n",
       "        vertical-align: top;\n",
       "    }\n",
       "\n",
       "    .dataframe thead th {\n",
       "        text-align: right;\n",
       "    }\n",
       "</style>\n",
       "<table border=\"1\" class=\"dataframe\">\n",
       "  <thead>\n",
       "    <tr style=\"text-align: right;\">\n",
       "      <th></th>\n",
       "      <th>SETUP_TIME</th>\n",
       "      <th>CYCLES</th>\n",
       "      <th>TESTED_UNITS</th>\n",
       "      <th>RESCREEN_RULE</th>\n",
       "      <th>MSE_RULE</th>\n",
       "      <th>SPC_RULE</th>\n",
       "      <th>INDEX_RULE</th>\n",
       "      <th>MCBJ_RULE</th>\n",
       "      <th>SETUPTIME_RULE</th>\n",
       "      <th>MSE_UNIT</th>\n",
       "      <th>...</th>\n",
       "      <th>TESTERHEAD_vl76_2</th>\n",
       "      <th>TESTERHEAD_vl91_1</th>\n",
       "      <th>TESTERHEAD_vl93_1</th>\n",
       "      <th>TESTERHEAD_vl95_1</th>\n",
       "      <th>TESTERHEAD_vl98_1</th>\n",
       "      <th>TESTERHEAD_vl99_1</th>\n",
       "      <th>TESTERHEAD_vl9_1</th>\n",
       "      <th>LOTSCREENTYPE_FIRST_PASS</th>\n",
       "      <th>MSYE</th>\n",
       "      <th>Predictions</th>\n",
       "    </tr>\n",
       "  </thead>\n",
       "  <tbody>\n",
       "    <tr>\n",
       "      <th>0</th>\n",
       "      <td>8.0</td>\n",
       "      <td>32.0</td>\n",
       "      <td>392.0</td>\n",
       "      <td>1.0</td>\n",
       "      <td>1.0</td>\n",
       "      <td>1.0</td>\n",
       "      <td>1.0</td>\n",
       "      <td>1.0</td>\n",
       "      <td>1.000000e+00</td>\n",
       "      <td>1.000</td>\n",
       "      <td>...</td>\n",
       "      <td>0.0</td>\n",
       "      <td>0.0</td>\n",
       "      <td>0.0</td>\n",
       "      <td>2.168404e-19</td>\n",
       "      <td>0.0</td>\n",
       "      <td>0.0</td>\n",
       "      <td>2.168404e-19</td>\n",
       "      <td>1.0</td>\n",
       "      <td>0.844</td>\n",
       "      <td>0.881982</td>\n",
       "    </tr>\n",
       "    <tr>\n",
       "      <th>1</th>\n",
       "      <td>2985.4</td>\n",
       "      <td>35.0</td>\n",
       "      <td>164.0</td>\n",
       "      <td>1.0</td>\n",
       "      <td>1.0</td>\n",
       "      <td>1.0</td>\n",
       "      <td>1.0</td>\n",
       "      <td>1.0</td>\n",
       "      <td>1.110223e-16</td>\n",
       "      <td>1.000</td>\n",
       "      <td>...</td>\n",
       "      <td>0.0</td>\n",
       "      <td>0.0</td>\n",
       "      <td>0.0</td>\n",
       "      <td>2.168404e-19</td>\n",
       "      <td>0.0</td>\n",
       "      <td>0.0</td>\n",
       "      <td>2.168404e-19</td>\n",
       "      <td>1.0</td>\n",
       "      <td>0.817</td>\n",
       "      <td>0.802369</td>\n",
       "    </tr>\n",
       "    <tr>\n",
       "      <th>2</th>\n",
       "      <td>18.9</td>\n",
       "      <td>420.0</td>\n",
       "      <td>959.0</td>\n",
       "      <td>1.0</td>\n",
       "      <td>1.0</td>\n",
       "      <td>1.0</td>\n",
       "      <td>1.0</td>\n",
       "      <td>1.0</td>\n",
       "      <td>1.000000e+00</td>\n",
       "      <td>0.998</td>\n",
       "      <td>...</td>\n",
       "      <td>0.0</td>\n",
       "      <td>0.0</td>\n",
       "      <td>0.0</td>\n",
       "      <td>2.168404e-19</td>\n",
       "      <td>0.0</td>\n",
       "      <td>0.0</td>\n",
       "      <td>2.168404e-19</td>\n",
       "      <td>1.0</td>\n",
       "      <td>0.996</td>\n",
       "      <td>0.991733</td>\n",
       "    </tr>\n",
       "    <tr>\n",
       "      <th>3</th>\n",
       "      <td>26.3</td>\n",
       "      <td>1157.0</td>\n",
       "      <td>14103.0</td>\n",
       "      <td>1.0</td>\n",
       "      <td>1.0</td>\n",
       "      <td>1.0</td>\n",
       "      <td>1.0</td>\n",
       "      <td>1.0</td>\n",
       "      <td>1.000000e+00</td>\n",
       "      <td>0.949</td>\n",
       "      <td>...</td>\n",
       "      <td>0.0</td>\n",
       "      <td>0.0</td>\n",
       "      <td>0.0</td>\n",
       "      <td>2.168404e-19</td>\n",
       "      <td>0.0</td>\n",
       "      <td>0.0</td>\n",
       "      <td>2.168404e-19</td>\n",
       "      <td>1.0</td>\n",
       "      <td>0.995</td>\n",
       "      <td>0.998975</td>\n",
       "    </tr>\n",
       "    <tr>\n",
       "      <th>4</th>\n",
       "      <td>2.0</td>\n",
       "      <td>159.0</td>\n",
       "      <td>1439.0</td>\n",
       "      <td>1.0</td>\n",
       "      <td>1.0</td>\n",
       "      <td>1.0</td>\n",
       "      <td>1.0</td>\n",
       "      <td>1.0</td>\n",
       "      <td>1.000000e+00</td>\n",
       "      <td>0.999</td>\n",
       "      <td>...</td>\n",
       "      <td>0.0</td>\n",
       "      <td>0.0</td>\n",
       "      <td>0.0</td>\n",
       "      <td>2.168404e-19</td>\n",
       "      <td>0.0</td>\n",
       "      <td>0.0</td>\n",
       "      <td>2.168404e-19</td>\n",
       "      <td>1.0</td>\n",
       "      <td>0.999</td>\n",
       "      <td>0.987218</td>\n",
       "    </tr>\n",
       "  </tbody>\n",
       "</table>\n",
       "<p>5 rows × 2745 columns</p>\n",
       "</div>"
      ],
      "text/plain": [
       "   SETUP_TIME  CYCLES  TESTED_UNITS  RESCREEN_RULE  MSE_RULE  SPC_RULE  \\\n",
       "0         8.0    32.0         392.0            1.0       1.0       1.0   \n",
       "1      2985.4    35.0         164.0            1.0       1.0       1.0   \n",
       "2        18.9   420.0         959.0            1.0       1.0       1.0   \n",
       "3        26.3  1157.0       14103.0            1.0       1.0       1.0   \n",
       "4         2.0   159.0        1439.0            1.0       1.0       1.0   \n",
       "\n",
       "   INDEX_RULE  MCBJ_RULE  SETUPTIME_RULE  MSE_UNIT     ...       \\\n",
       "0         1.0        1.0    1.000000e+00     1.000     ...        \n",
       "1         1.0        1.0    1.110223e-16     1.000     ...        \n",
       "2         1.0        1.0    1.000000e+00     0.998     ...        \n",
       "3         1.0        1.0    1.000000e+00     0.949     ...        \n",
       "4         1.0        1.0    1.000000e+00     0.999     ...        \n",
       "\n",
       "   TESTERHEAD_vl76_2  TESTERHEAD_vl91_1  TESTERHEAD_vl93_1  TESTERHEAD_vl95_1  \\\n",
       "0                0.0                0.0                0.0       2.168404e-19   \n",
       "1                0.0                0.0                0.0       2.168404e-19   \n",
       "2                0.0                0.0                0.0       2.168404e-19   \n",
       "3                0.0                0.0                0.0       2.168404e-19   \n",
       "4                0.0                0.0                0.0       2.168404e-19   \n",
       "\n",
       "   TESTERHEAD_vl98_1  TESTERHEAD_vl99_1  TESTERHEAD_vl9_1  \\\n",
       "0                0.0                0.0      2.168404e-19   \n",
       "1                0.0                0.0      2.168404e-19   \n",
       "2                0.0                0.0      2.168404e-19   \n",
       "3                0.0                0.0      2.168404e-19   \n",
       "4                0.0                0.0      2.168404e-19   \n",
       "\n",
       "   LOTSCREENTYPE_FIRST_PASS   MSYE  Predictions  \n",
       "0                       1.0  0.844     0.881982  \n",
       "1                       1.0  0.817     0.802369  \n",
       "2                       1.0  0.996     0.991733  \n",
       "3                       1.0  0.995     0.998975  \n",
       "4                       1.0  0.999     0.987218  \n",
       "\n",
       "[5 rows x 2745 columns]"
      ]
     },
     "execution_count": 190,
     "metadata": {},
     "output_type": "execute_result"
    }
   ],
   "source": [
    "out_df=pd.DataFrame(X_test_recovered)\n",
    "out_df.columns=X.columns\n",
    "out_df[\"MSYE\"] = list(np.concatenate(y_test_recovered, axis=0))\n",
    "out_df[\"Predictions\"] = predictions_recovered\n",
    "out_df.head()"
   ]
  },
  {
   "cell_type": "code",
   "execution_count": 192,
   "metadata": {},
   "outputs": [],
   "source": [
    "out_df.to_csv(\"data/product_test_data_MLP.csv\")"
   ]
  },
  {
   "cell_type": "code",
   "execution_count": null,
   "metadata": {},
   "outputs": [],
   "source": []
  }
 ],
 "metadata": {
  "kernelspec": {
   "display_name": "Python 3",
   "language": "python",
   "name": "python3"
  },
  "language_info": {
   "codemirror_mode": {
    "name": "ipython",
    "version": 3
   },
   "file_extension": ".py",
   "mimetype": "text/x-python",
   "name": "python",
   "nbconvert_exporter": "python",
   "pygments_lexer": "ipython3",
   "version": "3.6.4"
  }
 },
 "nbformat": 4,
 "nbformat_minor": 2
}
