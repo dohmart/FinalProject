{
 "cells": [
  {
   "cell_type": "code",
   "execution_count": 1,
   "metadata": {},
   "outputs": [],
   "source": [
    "import pandas as pd\n",
    "import matplotlib.pyplot as plt\n",
    "import numpy as np\n",
    "from GetAprilTrainTestData import GetAprilTrainTestData"
   ]
  },
  {
   "cell_type": "code",
   "execution_count": 2,
   "metadata": {},
   "outputs": [
    {
     "name": "stdout",
     "output_type": "stream",
     "text": [
      "13413 13413\n"
     ]
    }
   ],
   "source": [
    "X, y = GetAprilTrainTestData()"
   ]
  },
  {
   "cell_type": "code",
   "execution_count": 3,
   "metadata": {},
   "outputs": [
    {
     "name": "stdout",
     "output_type": "stream",
     "text": [
      "Shape (13413, 3947)\n"
     ]
    }
   ],
   "source": [
    "# Now need to one hot encode all the stuff in X that is categorical. \n",
    "X = pd.get_dummies(X)\n",
    "print(\"Shape\", X.shape)"
   ]
  },
  {
   "cell_type": "code",
   "execution_count": 4,
   "metadata": {},
   "outputs": [
    {
     "name": "stdout",
     "output_type": "stream",
     "text": [
      "10059 10059 3354 3354\n"
     ]
    }
   ],
   "source": [
    "from sklearn.model_selection import train_test_split\n",
    "X_train, X_test, y_train, y_test = train_test_split(X, y, random_state=20)\n",
    "print(len(X_train), len(y_train), len(X_test), len(y_test))"
   ]
  },
  {
   "cell_type": "code",
   "execution_count": 5,
   "metadata": {},
   "outputs": [],
   "source": [
    "# Scale the data. This may not be necessary for linear regressions, but will be if I go to some other scheme\n",
    "from sklearn.preprocessing import StandardScaler\n",
    "X_scaler = StandardScaler().fit(X_train)\n",
    "y_scaler = StandardScaler().fit(y_train)\n",
    "# Tranform all of the data based on the scaler fit calculated above\n",
    "X_train_scaled = X_scaler.transform(X_train)\n",
    "X_test_scaled = X_scaler.transform(X_test)\n",
    "y_train_scaled = y_scaler.transform(y_train)\n",
    "y_test_scaled = y_scaler.transform(y_test)"
   ]
  },
  {
   "cell_type": "code",
   "execution_count": 6,
   "metadata": {},
   "outputs": [
    {
     "name": "stdout",
     "output_type": "stream",
     "text": [
      "10059 10059 3354 3354\n",
      "Number of features =  3947\n"
     ]
    }
   ],
   "source": [
    "print(len(X_train_scaled), len(y_train_scaled), len(X_test_scaled), len(y_test_scaled))\n",
    "print(\"Number of features = \", len(X_train_scaled[0]))"
   ]
  },
  {
   "cell_type": "code",
   "execution_count": 7,
   "metadata": {},
   "outputs": [],
   "source": [
    "def build_keras_regressor():\n",
    "    from keras.models import Sequential\n",
    "    from keras.layers import Dense\n",
    "    model = Sequential()\n",
    "    # Create keras input layer and first hidden layer\n",
    "    number_inputs = len(X_train_scaled[0])\n",
    "    number_hidden_nodes = 100\n",
    "    activation_fn=\"softplus\"\n",
    "    model.add(Dense(units=number_hidden_nodes, activation=activation_fn, input_dim=number_inputs))\n",
    "    model.add(Dense(units=number_hidden_nodes, activation=activation_fn))\n",
    "    model.add(Dense(units=number_hidden_nodes, activation=activation_fn))\n",
    "    model.add(Dense(units=number_hidden_nodes, activation=activation_fn))\n",
    "    model.add(Dense(units=number_hidden_nodes, activation=activation_fn))\n",
    "    # Create keras output layer. There is no activation function since we want values directly\n",
    "    model.add(Dense(units=1))\n",
    "    # Compile the model\n",
    "    model.compile(loss='mean_squared_error', optimizer='adam', metrics = [\"mae\", \"accuracy\"])\n",
    "    print(model.summary(), activation=\"relu\")\n",
    "    return model"
   ]
  },
  {
   "cell_type": "code",
   "execution_count": 8,
   "metadata": {},
   "outputs": [
    {
     "name": "stderr",
     "output_type": "stream",
     "text": [
      "C:\\Anaconda3\\lib\\site-packages\\h5py\\__init__.py:36: FutureWarning: Conversion of the second argument of issubdtype from `float` to `np.floating` is deprecated. In future, it will be treated as `np.float64 == np.dtype(float).type`.\n",
      "  from ._conv import register_converters as _register_converters\n",
      "Using TensorFlow backend.\n"
     ]
    }
   ],
   "source": [
    "from keras.wrappers.scikit_learn import KerasRegressor\n",
    "regressor = KerasRegressor(build_fn=build_keras_regressor, batch_size=20,  epochs=100)"
   ]
  },
  {
   "cell_type": "code",
   "execution_count": 25,
   "metadata": {},
   "outputs": [
    {
     "name": "stdout",
     "output_type": "stream",
     "text": [
      "_________________________________________________________________\n",
      "Layer (type)                 Output Shape              Param #   \n",
      "=================================================================\n",
      "dense_13 (Dense)             (None, 100)               274400    \n",
      "_________________________________________________________________\n",
      "dense_14 (Dense)             (None, 100)               10100     \n",
      "_________________________________________________________________\n",
      "dense_15 (Dense)             (None, 100)               10100     \n",
      "_________________________________________________________________\n",
      "dense_16 (Dense)             (None, 100)               10100     \n",
      "_________________________________________________________________\n",
      "dense_17 (Dense)             (None, 100)               10100     \n",
      "_________________________________________________________________\n",
      "dense_18 (Dense)             (None, 1)                 101       \n",
      "=================================================================\n",
      "Total params: 314,901\n",
      "Trainable params: 314,901\n",
      "Non-trainable params: 0\n",
      "_________________________________________________________________\n",
      "None\n",
      "Epoch 1/100\n",
      "5967/5967 [==============================] - 3s 499us/step - loss: 0.0227 - mean_absolute_error: 0.0777 - acc: 0.0587\n",
      "Epoch 2/100\n",
      "5967/5967 [==============================] - 3s 450us/step - loss: 0.0048 - mean_absolute_error: 0.0399 - acc: 0.0600\n",
      "Epoch 3/100\n",
      "5967/5967 [==============================] - 3s 434us/step - loss: 0.0042 - mean_absolute_error: 0.0394 - acc: 0.0597 2s - loss: 0.0\n",
      "Epoch 4/100\n",
      "5967/5967 [==============================] - 3s 447us/step - loss: 0.0038 - mean_absolute_error: 0.0396 - acc: 0.0600\n",
      "Epoch 5/100\n",
      "5967/5967 [==============================] - 2s 414us/step - loss: 0.0032 - mean_absolute_error: 0.0344 - acc: 0.0602\n",
      "Epoch 6/100\n",
      "5967/5967 [==============================] - 3s 427us/step - loss: 0.0038 - mean_absolute_error: 0.0360 - acc: 0.0598\n",
      "Epoch 7/100\n",
      "5967/5967 [==============================] - 3s 434us/step - loss: 0.0027 - mean_absolute_error: 0.0320 - acc: 0.0600\n",
      "Epoch 8/100\n",
      "5967/5967 [==============================] - 3s 423us/step - loss: 0.0042 - mean_absolute_error: 0.0356 - acc: 0.0600\n",
      "Epoch 9/100\n",
      "5967/5967 [==============================] - 3s 475us/step - loss: 0.0023 - mean_absolute_error: 0.0292 - acc: 0.0602\n",
      "Epoch 10/100\n",
      "5967/5967 [==============================] - 2s 406us/step - loss: 0.0022 - mean_absolute_error: 0.0284 - acc: 0.0602\n",
      "Epoch 11/100\n",
      "5967/5967 [==============================] - 3s 463us/step - loss: 0.0021 - mean_absolute_error: 0.0282 - acc: 0.0602\n",
      "Epoch 12/100\n",
      "5967/5967 [==============================] - 3s 469us/step - loss: 0.0018 - mean_absolute_error: 0.0256 - acc: 0.0603\n",
      "Epoch 13/100\n",
      "5967/5967 [==============================] - 3s 541us/step - loss: 0.0017 - mean_absolute_error: 0.0244 - acc: 0.0602\n",
      "Epoch 14/100\n",
      "5967/5967 [==============================] - 3s 508us/step - loss: 0.0017 - mean_absolute_error: 0.0231 - acc: 0.0602\n",
      "Epoch 15/100\n",
      "5967/5967 [==============================] - 3s 561us/step - loss: 0.0018 - mean_absolute_error: 0.0265 - acc: 0.0602\n",
      "Epoch 16/100\n",
      "5967/5967 [==============================] - 3s 498us/step - loss: 0.0016 - mean_absolute_error: 0.0250 - acc: 0.0602\n",
      "Epoch 17/100\n",
      "5967/5967 [==============================] - 4s 602us/step - loss: 0.0015 - mean_absolute_error: 0.0222 - acc: 0.0602\n",
      "Epoch 18/100\n",
      "5967/5967 [==============================] - 4s 638us/step - loss: 0.0016 - mean_absolute_error: 0.0235 - acc: 0.0602\n",
      "Epoch 19/100\n",
      "5967/5967 [==============================] - 4s 641us/step - loss: 0.0015 - mean_absolute_error: 0.0233 - acc: 0.0602\n",
      "Epoch 20/100\n",
      "5967/5967 [==============================] - 3s 535us/step - loss: 0.0016 - mean_absolute_error: 0.0243 - acc: 0.0602\n",
      "Epoch 21/100\n",
      "5967/5967 [==============================] - 4s 620us/step - loss: 0.0016 - mean_absolute_error: 0.0239 - acc: 0.0602\n",
      "Epoch 22/100\n",
      "5967/5967 [==============================] - 3s 454us/step - loss: 0.0013 - mean_absolute_error: 0.0210 - acc: 0.0602\n",
      "Epoch 23/100\n",
      "5967/5967 [==============================] - 3s 520us/step - loss: 0.0014 - mean_absolute_error: 0.0222 - acc: 0.0602\n",
      "Epoch 24/100\n",
      "5967/5967 [==============================] - 3s 435us/step - loss: 0.0013 - mean_absolute_error: 0.0215 - acc: 0.0602\n",
      "Epoch 25/100\n",
      "5967/5967 [==============================] - 3s 498us/step - loss: 0.0015 - mean_absolute_error: 0.0231 - acc: 0.0602\n",
      "Epoch 26/100\n",
      "5967/5967 [==============================] - 3s 422us/step - loss: 0.0014 - mean_absolute_error: 0.0230 - acc: 0.0602\n",
      "Epoch 27/100\n",
      "5967/5967 [==============================] - 3s 458us/step - loss: 0.0012 - mean_absolute_error: 0.0199 - acc: 0.0602\n",
      "Epoch 28/100\n",
      "5967/5967 [==============================] - 3s 421us/step - loss: 0.0013 - mean_absolute_error: 0.0216 - acc: 0.0602\n",
      "Epoch 29/100\n",
      "5967/5967 [==============================] - 3s 543us/step - loss: 0.0011 - mean_absolute_error: 0.0195 - acc: 0.0602\n",
      "Epoch 30/100\n",
      "5967/5967 [==============================] - 3s 451us/step - loss: 0.0010 - mean_absolute_error: 0.0190 - acc: 0.0602\n",
      "Epoch 31/100\n",
      "5967/5967 [==============================] - 3s 472us/step - loss: 0.0012 - mean_absolute_error: 0.0204 - acc: 0.0602\n",
      "Epoch 32/100\n",
      "5967/5967 [==============================] - 3s 517us/step - loss: 0.0011 - mean_absolute_error: 0.0198 - acc: 0.0602\n",
      "Epoch 33/100\n",
      "5967/5967 [==============================] - 3s 522us/step - loss: 0.0012 - mean_absolute_error: 0.0207 - acc: 0.0602\n",
      "Epoch 34/100\n",
      "5967/5967 [==============================] - 3s 459us/step - loss: 0.0012 - mean_absolute_error: 0.0201 - acc: 0.0602\n",
      "Epoch 35/100\n",
      "5967/5967 [==============================] - 3s 534us/step - loss: 0.0011 - mean_absolute_error: 0.0196 - acc: 0.0602\n",
      "Epoch 36/100\n",
      "5967/5967 [==============================] - 3s 474us/step - loss: 0.0010 - mean_absolute_error: 0.0192 - acc: 0.0602\n",
      "Epoch 37/100\n",
      "5967/5967 [==============================] - 3s 475us/step - loss: 9.5213e-04 - mean_absolute_error: 0.0187 - acc: 0.0602\n",
      "Epoch 38/100\n",
      "5967/5967 [==============================] - 3s 483us/step - loss: 9.3218e-04 - mean_absolute_error: 0.0185 - acc: 0.0602\n",
      "Epoch 39/100\n",
      "5967/5967 [==============================] - 3s 539us/step - loss: 8.6039e-04 - mean_absolute_error: 0.0167 - acc: 0.0603\n",
      "Epoch 40/100\n",
      "5967/5967 [==============================] - 3s 532us/step - loss: 9.5670e-04 - mean_absolute_error: 0.0194 - acc: 0.0602\n",
      "Epoch 41/100\n",
      "5967/5967 [==============================] - 3s 548us/step - loss: 9.0125e-04 - mean_absolute_error: 0.0179 - acc: 0.0603\n",
      "Epoch 42/100\n",
      "5967/5967 [==============================] - 4s 662us/step - loss: 9.3872e-04 - mean_absolute_error: 0.0192 - acc: 0.0603\n",
      "Epoch 43/100\n",
      "5967/5967 [==============================] - 4s 665us/step - loss: 9.9608e-04 - mean_absolute_error: 0.0193 - acc: 0.0603\n",
      "Epoch 44/100\n",
      "5967/5967 [==============================] - 4s 615us/step - loss: 7.8245e-04 - mean_absolute_error: 0.0160 - acc: 0.0603\n",
      "Epoch 45/100\n",
      "5967/5967 [==============================] - 4s 613us/step - loss: 7.6762e-04 - mean_absolute_error: 0.0168 - acc: 0.0603\n",
      "Epoch 46/100\n",
      "5967/5967 [==============================] - 3s 439us/step - loss: 8.1740e-04 - mean_absolute_error: 0.0178 - acc: 0.0603\n",
      "Epoch 47/100\n",
      "5967/5967 [==============================] - 3s 498us/step - loss: 7.6722e-04 - mean_absolute_error: 0.0164 - acc: 0.0603\n",
      "Epoch 48/100\n",
      "5967/5967 [==============================] - 3s 453us/step - loss: 8.1250e-04 - mean_absolute_error: 0.0171 - acc: 0.0603\n",
      "Epoch 49/100\n",
      "5967/5967 [==============================] - 3s 507us/step - loss: 7.6983e-04 - mean_absolute_error: 0.0167 - acc: 0.0603\n",
      "Epoch 50/100\n",
      "5967/5967 [==============================] - 3s 447us/step - loss: 6.8254e-04 - mean_absolute_error: 0.0161 - acc: 0.0603\n",
      "Epoch 51/100\n",
      "5967/5967 [==============================] - 3s 459us/step - loss: 8.8041e-04 - mean_absolute_error: 0.0177 - acc: 0.0603\n",
      "Epoch 52/100\n",
      "5967/5967 [==============================] - 3s 468us/step - loss: 8.4926e-04 - mean_absolute_error: 0.0173 - acc: 0.0602\n",
      "Epoch 53/100\n",
      "5967/5967 [==============================] - 3s 526us/step - loss: 6.7019e-04 - mean_absolute_error: 0.0152 - acc: 0.0603\n",
      "Epoch 54/100\n",
      "5967/5967 [==============================] - 3s 479us/step - loss: 6.4678e-04 - mean_absolute_error: 0.0152 - acc: 0.0603\n",
      "Epoch 55/100\n",
      "5967/5967 [==============================] - 3s 536us/step - loss: 6.7163e-04 - mean_absolute_error: 0.0158 - acc: 0.0603\n",
      "Epoch 56/100\n",
      "5967/5967 [==============================] - 3s 500us/step - loss: 6.8864e-04 - mean_absolute_error: 0.0160 - acc: 0.0603\n",
      "Epoch 57/100\n",
      "5967/5967 [==============================] - 3s 573us/step - loss: 7.1116e-04 - mean_absolute_error: 0.0163 - acc: 0.0603\n",
      "Epoch 58/100\n",
      "5967/5967 [==============================] - 4s 658us/step - loss: 7.4920e-04 - mean_absolute_error: 0.0158 - acc: 0.0603\n",
      "Epoch 59/100\n",
      "5967/5967 [==============================] - 5s 798us/step - loss: 6.9849e-04 - mean_absolute_error: 0.0170 - acc: 0.0603\n",
      "Epoch 60/100\n",
      "5967/5967 [==============================] - 6s 932us/step - loss: 6.3128e-04 - mean_absolute_error: 0.0148 - acc: 0.0603\n",
      "Epoch 61/100\n",
      "5967/5967 [==============================] - 4s 642us/step - loss: 7.4465e-04 - mean_absolute_error: 0.0163 - acc: 0.0603\n",
      "Epoch 62/100\n",
      "5967/5967 [==============================] - 5s 781us/step - loss: 8.6357e-04 - mean_absolute_error: 0.0176 - acc: 0.0602\n",
      "Epoch 63/100\n",
      "5967/5967 [==============================] - 5s 787us/step - loss: 7.0501e-04 - mean_absolute_error: 0.0156 - acc: 0.0603\n",
      "Epoch 64/100\n",
      "5967/5967 [==============================] - 3s 578us/step - loss: 5.4266e-04 - mean_absolute_error: 0.0138 - acc: 0.0603\n",
      "Epoch 65/100\n",
      "5967/5967 [==============================] - 4s 621us/step - loss: 6.3315e-04 - mean_absolute_error: 0.0154 - acc: 0.0603\n",
      "Epoch 66/100\n",
      "5967/5967 [==============================] - 4s 683us/step - loss: 6.8252e-04 - mean_absolute_error: 0.0163 - acc: 0.0603\n",
      "Epoch 67/100\n",
      "5967/5967 [==============================] - 4s 621us/step - loss: 6.0965e-04 - mean_absolute_error: 0.0150 - acc: 0.0603\n",
      "Epoch 68/100\n",
      "5967/5967 [==============================] - 5s 810us/step - loss: 6.2669e-04 - mean_absolute_error: 0.0146 - acc: 0.0603\n",
      "Epoch 69/100\n",
      "5967/5967 [==============================] - 4s 590us/step - loss: 6.7429e-04 - mean_absolute_error: 0.0158 - acc: 0.0603\n",
      "Epoch 70/100\n",
      "5967/5967 [==============================] - 3s 571us/step - loss: 5.5410e-04 - mean_absolute_error: 0.0141 - acc: 0.0603\n",
      "Epoch 71/100\n",
      "5967/5967 [==============================] - 4s 634us/step - loss: 5.5096e-04 - mean_absolute_error: 0.0141 - acc: 0.0603\n",
      "Epoch 72/100\n",
      "5967/5967 [==============================] - 3s 561us/step - loss: 5.6360e-04 - mean_absolute_error: 0.0148 - acc: 0.0603\n",
      "Epoch 73/100\n",
      "5967/5967 [==============================] - 3s 586us/step - loss: 5.3432e-04 - mean_absolute_error: 0.0139 - acc: 0.0603\n",
      "Epoch 74/100\n",
      "5967/5967 [==============================] - 3s 494us/step - loss: 6.8137e-04 - mean_absolute_error: 0.0147 - acc: 0.0603\n",
      "Epoch 75/100\n",
      "5967/5967 [==============================] - 3s 580us/step - loss: 5.4861e-04 - mean_absolute_error: 0.0142 - acc: 0.0603\n",
      "Epoch 76/100\n",
      "5967/5967 [==============================] - 3s 561us/step - loss: 5.3345e-04 - mean_absolute_error: 0.0142 - acc: 0.0603\n",
      "Epoch 77/100\n",
      "5967/5967 [==============================] - 3s 586us/step - loss: 6.1207e-04 - mean_absolute_error: 0.0161 - acc: 0.0603\n",
      "Epoch 78/100\n",
      "5967/5967 [==============================] - 3s 578us/step - loss: 5.0926e-04 - mean_absolute_error: 0.0132 - acc: 0.0603\n",
      "Epoch 79/100\n",
      "5967/5967 [==============================] - 3s 533us/step - loss: 6.0942e-04 - mean_absolute_error: 0.0137 - acc: 0.0603\n",
      "Epoch 80/100\n",
      "5967/5967 [==============================] - 4s 590us/step - loss: 4.8131e-04 - mean_absolute_error: 0.0126 - acc: 0.0603\n",
      "Epoch 81/100\n",
      "5967/5967 [==============================] - 4s 696us/step - loss: 5.0123e-04 - mean_absolute_error: 0.0136 - acc: 0.0603\n",
      "Epoch 82/100\n",
      "5967/5967 [==============================] - 5s 760us/step - loss: 5.9880e-04 - mean_absolute_error: 0.0152 - acc: 0.0603\n",
      "Epoch 83/100\n",
      "5967/5967 [==============================] - 5s 803us/step - loss: 4.8658e-04 - mean_absolute_error: 0.0133 - acc: 0.0603\n",
      "Epoch 84/100\n",
      "5967/5967 [==============================] - 4s 684us/step - loss: 4.6880e-04 - mean_absolute_error: 0.0128 - acc: 0.0603\n",
      "Epoch 85/100\n",
      "5967/5967 [==============================] - 4s 696us/step - loss: 4.8237e-04 - mean_absolute_error: 0.0133 - acc: 0.0603\n",
      "Epoch 86/100\n",
      "5967/5967 [==============================] - 5s 804us/step - loss: 4.4596e-04 - mean_absolute_error: 0.0125 - acc: 0.0603\n",
      "Epoch 87/100\n",
      "5967/5967 [==============================] - 4s 731us/step - loss: 5.2910e-04 - mean_absolute_error: 0.0136 - acc: 0.0603\n",
      "Epoch 88/100\n",
      "5967/5967 [==============================] - 4s 710us/step - loss: 5.4418e-04 - mean_absolute_error: 0.0142 - acc: 0.0603\n",
      "Epoch 89/100\n",
      "5967/5967 [==============================] - 4s 671us/step - loss: 4.1553e-04 - mean_absolute_error: 0.0121 - acc: 0.0603\n",
      "Epoch 90/100\n",
      "5967/5967 [==============================] - 4s 698us/step - loss: 4.3164e-04 - mean_absolute_error: 0.0125 - acc: 0.0603\n",
      "Epoch 91/100\n",
      "5967/5967 [==============================] - 5s 777us/step - loss: 4.4701e-04 - mean_absolute_error: 0.0126 - acc: 0.0603\n",
      "Epoch 92/100\n",
      "5967/5967 [==============================] - 5s 781us/step - loss: 4.5586e-04 - mean_absolute_error: 0.0129 - acc: 0.0603\n",
      "Epoch 93/100\n",
      "5967/5967 [==============================] - 4s 735us/step - loss: 5.2748e-04 - mean_absolute_error: 0.0145 - acc: 0.0603\n",
      "Epoch 94/100\n",
      "5967/5967 [==============================] - 5s 780us/step - loss: 5.5142e-04 - mean_absolute_error: 0.0139 - acc: 0.0603\n",
      "Epoch 95/100\n",
      "5967/5967 [==============================] - 4s 688us/step - loss: 5.0916e-04 - mean_absolute_error: 0.0143 - acc: 0.0603\n",
      "Epoch 96/100\n",
      "5967/5967 [==============================] - 5s 774us/step - loss: 4.3267e-04 - mean_absolute_error: 0.0117 - acc: 0.0603\n",
      "Epoch 97/100\n",
      "5967/5967 [==============================] - 5s 839us/step - loss: 4.4943e-04 - mean_absolute_error: 0.0123 - acc: 0.0603\n",
      "Epoch 98/100\n",
      "5967/5967 [==============================] - 5s 779us/step - loss: 4.5003e-04 - mean_absolute_error: 0.0126 - acc: 0.0603\n",
      "Epoch 99/100\n",
      "5967/5967 [==============================] - 4s 646us/step - loss: 4.3233e-04 - mean_absolute_error: 0.0123 - acc: 0.0603\n",
      "Epoch 100/100\n",
      "5967/5967 [==============================] - 4s 680us/step - loss: 4.9151e-04 - mean_absolute_error: 0.0131 - acc: 0.0603\n"
     ]
    }
   ],
   "source": [
    "results = regressor.fit(X_train_scaled, y_train)"
   ]
  },
  {
   "cell_type": "code",
   "execution_count": 10,
   "metadata": {},
   "outputs": [
    {
     "ename": "AttributeError",
     "evalue": "'KerasRegressor' object has no attribute 'model'",
     "output_type": "error",
     "traceback": [
      "\u001b[1;31m---------------------------------------------------------------------------\u001b[0m",
      "\u001b[1;31mAttributeError\u001b[0m                            Traceback (most recent call last)",
      "\u001b[1;32m<ipython-input-10-dd5314cee864>\u001b[0m in \u001b[0;36m<module>\u001b[1;34m()\u001b[0m\n\u001b[1;32m----> 1\u001b[1;33m \u001b[0mregressor\u001b[0m\u001b[1;33m.\u001b[0m\u001b[0mscore\u001b[0m\u001b[1;33m(\u001b[0m\u001b[0mX_test_scaled\u001b[0m\u001b[1;33m,\u001b[0m \u001b[0my_test_scaled\u001b[0m\u001b[1;33m)\u001b[0m\u001b[1;33m\u001b[0m\u001b[0m\n\u001b[0m",
      "\u001b[1;32mC:\\Anaconda3\\lib\\site-packages\\keras\\wrappers\\scikit_learn.py\u001b[0m in \u001b[0;36mscore\u001b[1;34m(self, x, y, **kwargs)\u001b[0m\n\u001b[0;32m    340\u001b[0m         \"\"\"\n\u001b[0;32m    341\u001b[0m         \u001b[0mkwargs\u001b[0m \u001b[1;33m=\u001b[0m \u001b[0mself\u001b[0m\u001b[1;33m.\u001b[0m\u001b[0mfilter_sk_params\u001b[0m\u001b[1;33m(\u001b[0m\u001b[0mSequential\u001b[0m\u001b[1;33m.\u001b[0m\u001b[0mevaluate\u001b[0m\u001b[1;33m,\u001b[0m \u001b[0mkwargs\u001b[0m\u001b[1;33m)\u001b[0m\u001b[1;33m\u001b[0m\u001b[0m\n\u001b[1;32m--> 342\u001b[1;33m         \u001b[0mloss\u001b[0m \u001b[1;33m=\u001b[0m \u001b[0mself\u001b[0m\u001b[1;33m.\u001b[0m\u001b[0mmodel\u001b[0m\u001b[1;33m.\u001b[0m\u001b[0mevaluate\u001b[0m\u001b[1;33m(\u001b[0m\u001b[0mx\u001b[0m\u001b[1;33m,\u001b[0m \u001b[0my\u001b[0m\u001b[1;33m,\u001b[0m \u001b[1;33m**\u001b[0m\u001b[0mkwargs\u001b[0m\u001b[1;33m)\u001b[0m\u001b[1;33m\u001b[0m\u001b[0m\n\u001b[0m\u001b[0;32m    343\u001b[0m         \u001b[1;32mif\u001b[0m \u001b[0misinstance\u001b[0m\u001b[1;33m(\u001b[0m\u001b[0mloss\u001b[0m\u001b[1;33m,\u001b[0m \u001b[0mlist\u001b[0m\u001b[1;33m)\u001b[0m\u001b[1;33m:\u001b[0m\u001b[1;33m\u001b[0m\u001b[0m\n\u001b[0;32m    344\u001b[0m             \u001b[1;32mreturn\u001b[0m \u001b[1;33m-\u001b[0m\u001b[0mloss\u001b[0m\u001b[1;33m[\u001b[0m\u001b[1;36m0\u001b[0m\u001b[1;33m]\u001b[0m\u001b[1;33m\u001b[0m\u001b[0m\n",
      "\u001b[1;31mAttributeError\u001b[0m: 'KerasRegressor' object has no attribute 'model'"
     ]
    }
   ],
   "source": [
    "regressor.score(X_test_scaled, y_test_scaled)"
   ]
  },
  {
   "cell_type": "code",
   "execution_count": 11,
   "metadata": {},
   "outputs": [
    {
     "ename": "AttributeError",
     "evalue": "'KerasRegressor' object has no attribute 'model'",
     "output_type": "error",
     "traceback": [
      "\u001b[1;31m---------------------------------------------------------------------------\u001b[0m",
      "\u001b[1;31mAttributeError\u001b[0m                            Traceback (most recent call last)",
      "\u001b[1;32m<ipython-input-11-b4d7319a6040>\u001b[0m in \u001b[0;36m<module>\u001b[1;34m()\u001b[0m\n\u001b[1;32m----> 1\u001b[1;33m \u001b[0mpredictions\u001b[0m\u001b[1;33m=\u001b[0m \u001b[0mregressor\u001b[0m\u001b[1;33m.\u001b[0m\u001b[0mpredict\u001b[0m\u001b[1;33m(\u001b[0m\u001b[0mX_test_scaled\u001b[0m\u001b[1;33m)\u001b[0m\u001b[1;33m\u001b[0m\u001b[0m\n\u001b[0m",
      "\u001b[1;32mC:\\Anaconda3\\lib\\site-packages\\keras\\wrappers\\scikit_learn.py\u001b[0m in \u001b[0;36mpredict\u001b[1;34m(self, x, **kwargs)\u001b[0m\n\u001b[0;32m    321\u001b[0m         \"\"\"\n\u001b[0;32m    322\u001b[0m         \u001b[0mkwargs\u001b[0m \u001b[1;33m=\u001b[0m \u001b[0mself\u001b[0m\u001b[1;33m.\u001b[0m\u001b[0mfilter_sk_params\u001b[0m\u001b[1;33m(\u001b[0m\u001b[0mSequential\u001b[0m\u001b[1;33m.\u001b[0m\u001b[0mpredict\u001b[0m\u001b[1;33m,\u001b[0m \u001b[0mkwargs\u001b[0m\u001b[1;33m)\u001b[0m\u001b[1;33m\u001b[0m\u001b[0m\n\u001b[1;32m--> 323\u001b[1;33m         \u001b[1;32mreturn\u001b[0m \u001b[0mnp\u001b[0m\u001b[1;33m.\u001b[0m\u001b[0msqueeze\u001b[0m\u001b[1;33m(\u001b[0m\u001b[0mself\u001b[0m\u001b[1;33m.\u001b[0m\u001b[0mmodel\u001b[0m\u001b[1;33m.\u001b[0m\u001b[0mpredict\u001b[0m\u001b[1;33m(\u001b[0m\u001b[0mx\u001b[0m\u001b[1;33m,\u001b[0m \u001b[1;33m**\u001b[0m\u001b[0mkwargs\u001b[0m\u001b[1;33m)\u001b[0m\u001b[1;33m)\u001b[0m\u001b[1;33m\u001b[0m\u001b[0m\n\u001b[0m\u001b[0;32m    324\u001b[0m \u001b[1;33m\u001b[0m\u001b[0m\n\u001b[0;32m    325\u001b[0m     \u001b[1;32mdef\u001b[0m \u001b[0mscore\u001b[0m\u001b[1;33m(\u001b[0m\u001b[0mself\u001b[0m\u001b[1;33m,\u001b[0m \u001b[0mx\u001b[0m\u001b[1;33m,\u001b[0m \u001b[0my\u001b[0m\u001b[1;33m,\u001b[0m \u001b[1;33m**\u001b[0m\u001b[0mkwargs\u001b[0m\u001b[1;33m)\u001b[0m\u001b[1;33m:\u001b[0m\u001b[1;33m\u001b[0m\u001b[0m\n",
      "\u001b[1;31mAttributeError\u001b[0m: 'KerasRegressor' object has no attribute 'model'"
     ]
    }
   ],
   "source": [
    "predictions= regressor.predict(X_test_scaled)"
   ]
  },
  {
   "cell_type": "code",
   "execution_count": 28,
   "metadata": {},
   "outputs": [],
   "source": [
    "X_train_recovered = X_scaler.inverse_transform(X_train_scaled)\n",
    "X_test_recovered = X_scaler.inverse_transform(X_test_scaled)\n",
    "y_train_recovered = y_scaler.inverse_transform(y_train_scaled)\n",
    "y_test_recovered = y_scaler.inverse_transform(y_test_scaled)\n",
    "predictions_recovered = y_scaler.inverse_transform(predictions)"
   ]
  },
  {
   "cell_type": "code",
   "execution_count": 29,
   "metadata": {},
   "outputs": [
    {
     "data": {
      "image/png": "[encoded data removed]",
      "text/plain": [
       "<matplotlib.figure.Figure at 0x35ee3828>"
      ]
     },
     "metadata": {},
     "output_type": "display_data"
    }
   ],
   "source": [
    "plt.scatter(predictions_recovered, np.concatenate(y_test_recovered, axis=0))\n",
    "plt.hlines(y=1, xmin=predictions.min(), xmax=predictions.max())\n",
    "plt.show()"
   ]
  },
  {
   "cell_type": "code",
   "execution_count": 30,
   "metadata": {},
   "outputs": [
    {
     "data": {
      "text/plain": [
       "array([8.00000000e+00, 3.20000000e+01, 3.92000000e+02, ...,\n",
       "       0.00000000e+00, 2.16840434e-19, 1.00000000e+00])"
      ]
     },
     "execution_count": 30,
     "metadata": {},
     "output_type": "execute_result"
    }
   ],
   "source": [
    "X_test_recovered[0]"
   ]
  },
  {
   "cell_type": "code",
   "execution_count": 31,
   "metadata": {},
   "outputs": [
    {
     "data": {
      "text/plain": [
       "array([[0.844],\n",
       "       [0.817],\n",
       "       [0.996],\n",
       "       ...,\n",
       "       [0.905],\n",
       "       [0.993],\n",
       "       [0.95 ]])"
      ]
     },
     "execution_count": 31,
     "metadata": {},
     "output_type": "execute_result"
    }
   ],
   "source": [
    "y_test_recovered"
   ]
  },
  {
   "cell_type": "code",
   "execution_count": 32,
   "metadata": {},
   "outputs": [
    {
     "data": {
      "text/plain": [
       "array([1.0277036, 1.0231518, 1.033953 , ..., 1.0270336, 1.0334805,\n",
       "       1.0272079], dtype=float32)"
      ]
     },
     "execution_count": 32,
     "metadata": {},
     "output_type": "execute_result"
    }
   ],
   "source": [
    "predictions_recovered"
   ]
  },
  {
   "cell_type": "code",
   "execution_count": 33,
   "metadata": {},
   "outputs": [
    {
     "data": {
      "text/html": [
       "<div>\n",
       "<style scoped>\n",
       "    .dataframe tbody tr th:only-of-type {\n",
       "        vertical-align: middle;\n",
       "    }\n",
       "\n",
       "    .dataframe tbody tr th {\n",
       "        vertical-align: top;\n",
       "    }\n",
       "\n",
       "    .dataframe thead th {\n",
       "        text-align: right;\n",
       "    }\n",
       "</style>\n",
       "<table border=\"1\" class=\"dataframe\">\n",
       "  <thead>\n",
       "    <tr style=\"text-align: right;\">\n",
       "      <th></th>\n",
       "      <th>SETUP_TIME</th>\n",
       "      <th>CYCLES</th>\n",
       "      <th>TESTED_UNITS</th>\n",
       "      <th>RESCREEN_RULE</th>\n",
       "      <th>MSE_RULE</th>\n",
       "      <th>SPC_RULE</th>\n",
       "      <th>INDEX_RULE</th>\n",
       "      <th>MCBJ_RULE</th>\n",
       "      <th>SETUPTIME_RULE</th>\n",
       "      <th>MSE_UNIT</th>\n",
       "      <th>...</th>\n",
       "      <th>TESTERHEAD_vl76_2</th>\n",
       "      <th>TESTERHEAD_vl91_1</th>\n",
       "      <th>TESTERHEAD_vl93_1</th>\n",
       "      <th>TESTERHEAD_vl95_1</th>\n",
       "      <th>TESTERHEAD_vl98_1</th>\n",
       "      <th>TESTERHEAD_vl99_1</th>\n",
       "      <th>TESTERHEAD_vl9_1</th>\n",
       "      <th>LOTSCREENTYPE_FIRST_PASS</th>\n",
       "      <th>MSYE</th>\n",
       "      <th>Predictions</th>\n",
       "    </tr>\n",
       "  </thead>\n",
       "  <tbody>\n",
       "    <tr>\n",
       "      <th>0</th>\n",
       "      <td>8.0</td>\n",
       "      <td>32.0</td>\n",
       "      <td>392.0</td>\n",
       "      <td>1.0</td>\n",
       "      <td>1.0</td>\n",
       "      <td>1.0</td>\n",
       "      <td>1.0</td>\n",
       "      <td>1.0</td>\n",
       "      <td>1.000000e+00</td>\n",
       "      <td>1.000</td>\n",
       "      <td>...</td>\n",
       "      <td>0.0</td>\n",
       "      <td>0.0</td>\n",
       "      <td>0.0</td>\n",
       "      <td>2.168404e-19</td>\n",
       "      <td>0.0</td>\n",
       "      <td>0.0</td>\n",
       "      <td>2.168404e-19</td>\n",
       "      <td>1.0</td>\n",
       "      <td>0.844</td>\n",
       "      <td>1.027704</td>\n",
       "    </tr>\n",
       "    <tr>\n",
       "      <th>1</th>\n",
       "      <td>2985.4</td>\n",
       "      <td>35.0</td>\n",
       "      <td>164.0</td>\n",
       "      <td>1.0</td>\n",
       "      <td>1.0</td>\n",
       "      <td>1.0</td>\n",
       "      <td>1.0</td>\n",
       "      <td>1.0</td>\n",
       "      <td>1.110223e-16</td>\n",
       "      <td>1.000</td>\n",
       "      <td>...</td>\n",
       "      <td>0.0</td>\n",
       "      <td>0.0</td>\n",
       "      <td>0.0</td>\n",
       "      <td>2.168404e-19</td>\n",
       "      <td>0.0</td>\n",
       "      <td>0.0</td>\n",
       "      <td>2.168404e-19</td>\n",
       "      <td>1.0</td>\n",
       "      <td>0.817</td>\n",
       "      <td>1.023152</td>\n",
       "    </tr>\n",
       "    <tr>\n",
       "      <th>2</th>\n",
       "      <td>18.9</td>\n",
       "      <td>420.0</td>\n",
       "      <td>959.0</td>\n",
       "      <td>1.0</td>\n",
       "      <td>1.0</td>\n",
       "      <td>1.0</td>\n",
       "      <td>1.0</td>\n",
       "      <td>1.0</td>\n",
       "      <td>1.000000e+00</td>\n",
       "      <td>0.998</td>\n",
       "      <td>...</td>\n",
       "      <td>0.0</td>\n",
       "      <td>0.0</td>\n",
       "      <td>0.0</td>\n",
       "      <td>2.168404e-19</td>\n",
       "      <td>0.0</td>\n",
       "      <td>0.0</td>\n",
       "      <td>2.168404e-19</td>\n",
       "      <td>1.0</td>\n",
       "      <td>0.996</td>\n",
       "      <td>1.033953</td>\n",
       "    </tr>\n",
       "    <tr>\n",
       "      <th>3</th>\n",
       "      <td>26.3</td>\n",
       "      <td>1157.0</td>\n",
       "      <td>14103.0</td>\n",
       "      <td>1.0</td>\n",
       "      <td>1.0</td>\n",
       "      <td>1.0</td>\n",
       "      <td>1.0</td>\n",
       "      <td>1.0</td>\n",
       "      <td>1.000000e+00</td>\n",
       "      <td>0.949</td>\n",
       "      <td>...</td>\n",
       "      <td>0.0</td>\n",
       "      <td>0.0</td>\n",
       "      <td>0.0</td>\n",
       "      <td>2.168404e-19</td>\n",
       "      <td>0.0</td>\n",
       "      <td>0.0</td>\n",
       "      <td>2.168404e-19</td>\n",
       "      <td>1.0</td>\n",
       "      <td>0.995</td>\n",
       "      <td>1.033793</td>\n",
       "    </tr>\n",
       "    <tr>\n",
       "      <th>4</th>\n",
       "      <td>2.0</td>\n",
       "      <td>159.0</td>\n",
       "      <td>1439.0</td>\n",
       "      <td>1.0</td>\n",
       "      <td>1.0</td>\n",
       "      <td>1.0</td>\n",
       "      <td>1.0</td>\n",
       "      <td>1.0</td>\n",
       "      <td>1.000000e+00</td>\n",
       "      <td>0.999</td>\n",
       "      <td>...</td>\n",
       "      <td>0.0</td>\n",
       "      <td>0.0</td>\n",
       "      <td>0.0</td>\n",
       "      <td>2.168404e-19</td>\n",
       "      <td>0.0</td>\n",
       "      <td>0.0</td>\n",
       "      <td>2.168404e-19</td>\n",
       "      <td>1.0</td>\n",
       "      <td>0.999</td>\n",
       "      <td>1.031703</td>\n",
       "    </tr>\n",
       "  </tbody>\n",
       "</table>\n",
       "<p>5 rows × 2745 columns</p>\n",
       "</div>"
      ],
      "text/plain": [
       "   SETUP_TIME  CYCLES  TESTED_UNITS  RESCREEN_RULE  MSE_RULE  SPC_RULE  \\\n",
       "0         8.0    32.0         392.0            1.0       1.0       1.0   \n",
       "1      2985.4    35.0         164.0            1.0       1.0       1.0   \n",
       "2        18.9   420.0         959.0            1.0       1.0       1.0   \n",
       "3        26.3  1157.0       14103.0            1.0       1.0       1.0   \n",
       "4         2.0   159.0        1439.0            1.0       1.0       1.0   \n",
       "\n",
       "   INDEX_RULE  MCBJ_RULE  SETUPTIME_RULE  MSE_UNIT     ...       \\\n",
       "0         1.0        1.0    1.000000e+00     1.000     ...        \n",
       "1         1.0        1.0    1.110223e-16     1.000     ...        \n",
       "2         1.0        1.0    1.000000e+00     0.998     ...        \n",
       "3         1.0        1.0    1.000000e+00     0.949     ...        \n",
       "4         1.0        1.0    1.000000e+00     0.999     ...        \n",
       "\n",
       "   TESTERHEAD_vl76_2  TESTERHEAD_vl91_1  TESTERHEAD_vl93_1  TESTERHEAD_vl95_1  \\\n",
       "0                0.0                0.0                0.0       2.168404e-19   \n",
       "1                0.0                0.0                0.0       2.168404e-19   \n",
       "2                0.0                0.0                0.0       2.168404e-19   \n",
       "3                0.0                0.0                0.0       2.168404e-19   \n",
       "4                0.0                0.0                0.0       2.168404e-19   \n",
       "\n",
       "   TESTERHEAD_vl98_1  TESTERHEAD_vl99_1  TESTERHEAD_vl9_1  \\\n",
       "0                0.0                0.0      2.168404e-19   \n",
       "1                0.0                0.0      2.168404e-19   \n",
       "2                0.0                0.0      2.168404e-19   \n",
       "3                0.0                0.0      2.168404e-19   \n",
       "4                0.0                0.0      2.168404e-19   \n",
       "\n",
       "   LOTSCREENTYPE_FIRST_PASS   MSYE  Predictions  \n",
       "0                       1.0  0.844     1.027704  \n",
       "1                       1.0  0.817     1.023152  \n",
       "2                       1.0  0.996     1.033953  \n",
       "3                       1.0  0.995     1.033793  \n",
       "4                       1.0  0.999     1.031703  \n",
       "\n",
       "[5 rows x 2745 columns]"
      ]
     },
     "execution_count": 33,
     "metadata": {},
     "output_type": "execute_result"
    }
   ],
   "source": [
    "out_df=pd.DataFrame(X_test_recovered)\n",
    "out_df.columns=X.columns\n",
    "out_df[\"MSYE\"] = list(np.concatenate(y_test_recovered, axis=0))\n",
    "out_df[\"Predictions\"] = predictions_recovered\n",
    "out_df.head()"
   ]
  },
  {
   "cell_type": "code",
   "execution_count": 34,
   "metadata": {},
   "outputs": [],
   "source": [
    "out_df.to_csv(\"data/product_test_data_KerasNeuralNet.csv\")"
   ]
  },
  {
   "cell_type": "code",
   "execution_count": null,
   "metadata": {},
   "outputs": [],
   "source": []
  }
 ],
 "metadata": {
  "kernelspec": {
   "display_name": "Python 3",
   "language": "python",
   "name": "python3"
  },
  "language_info": {
   "codemirror_mode": {
    "name": "ipython",
    "version": 3
   },
   "file_extension": ".py",
   "mimetype": "text/x-python",
   "name": "python",
   "nbconvert_exporter": "python",
   "pygments_lexer": "ipython3",
   "version": "3.6.4"
  }
 },
 "nbformat": 4,
 "nbformat_minor": 2
}
