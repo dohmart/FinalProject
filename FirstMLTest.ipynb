{
 "cells": [
  {
   "cell_type": "code",
   "execution_count": 84,
   "metadata": {},
   "outputs": [],
   "source": [
    "import pandas as pd\n",
    "import matplotlib.pyplot as plt\n",
    "import numpy as np\n",
    "from GetAprilTrainTestData import GetAprilTrainTestData"
   ]
  },
  {
   "cell_type": "code",
   "execution_count": 85,
   "metadata": {},
   "outputs": [
    {
     "name": "stdout",
     "output_type": "stream",
     "text": [
      "7956 7956\n"
     ]
    }
   ],
   "source": [
    "X, y = GetAprilTrainTestData()"
   ]
  },
  {
   "cell_type": "code",
   "execution_count": 86,
   "metadata": {},
   "outputs": [
    {
     "name": "stdout",
     "output_type": "stream",
     "text": [
      "7956 7956\n"
     ]
    }
   ],
   "source": [
    "print(len(X), len(y))"
   ]
  },
  {
   "cell_type": "code",
   "execution_count": 87,
   "metadata": {},
   "outputs": [],
   "source": [
    "col_df = pd.DataFrame(X.columns)\n",
    "col_df.to_csv(\"data/ssrcolumns.csv\")"
   ]
  },
  {
   "cell_type": "code",
   "execution_count": 59,
   "metadata": {},
   "outputs": [
    {
     "data": {
      "text/plain": [
       "0"
      ]
     },
     "execution_count": 59,
     "metadata": {},
     "output_type": "execute_result"
    }
   ],
   "source": [
    "X.isnull().values.ravel().sum()"
   ]
  },
  {
   "cell_type": "code",
   "execution_count": 60,
   "metadata": {},
   "outputs": [
    {
     "data": {
      "text/html": [
       "<div>\n",
       "<style scoped>\n",
       "    .dataframe tbody tr th:only-of-type {\n",
       "        vertical-align: middle;\n",
       "    }\n",
       "\n",
       "    .dataframe tbody tr th {\n",
       "        vertical-align: top;\n",
       "    }\n",
       "\n",
       "    .dataframe thead th {\n",
       "        text-align: right;\n",
       "    }\n",
       "</style>\n",
       "<table border=\"1\" class=\"dataframe\">\n",
       "  <thead>\n",
       "    <tr style=\"text-align: right;\">\n",
       "      <th></th>\n",
       "      <th>SETUP_TIME</th>\n",
       "      <th>CYCLES</th>\n",
       "      <th>TESTED_UNITS</th>\n",
       "      <th>RESCREEN_RULE</th>\n",
       "      <th>MSE_RULE</th>\n",
       "      <th>SPC_RULE</th>\n",
       "      <th>INDEX_RULE</th>\n",
       "      <th>MCBJ_RULE</th>\n",
       "      <th>SETUPTIME_RULE</th>\n",
       "      <th>MSE_UNIT</th>\n",
       "      <th>...</th>\n",
       "      <th>TESTERHEAD_vl71_1</th>\n",
       "      <th>TESTERHEAD_vl76_1</th>\n",
       "      <th>TESTERHEAD_vl76_2</th>\n",
       "      <th>TESTERHEAD_vl91_1</th>\n",
       "      <th>TESTERHEAD_vl93_1</th>\n",
       "      <th>TESTERHEAD_vl95_1</th>\n",
       "      <th>TESTERHEAD_vl98_1</th>\n",
       "      <th>TESTERHEAD_vl99_1</th>\n",
       "      <th>TESTERHEAD_vl9_1</th>\n",
       "      <th>LOTSCREENTYPE_FIRST_PASS</th>\n",
       "    </tr>\n",
       "  </thead>\n",
       "  <tbody>\n",
       "    <tr>\n",
       "      <th>0</th>\n",
       "      <td>10.7</td>\n",
       "      <td>423</td>\n",
       "      <td>1888</td>\n",
       "      <td>1</td>\n",
       "      <td>1</td>\n",
       "      <td>1</td>\n",
       "      <td>1</td>\n",
       "      <td>1</td>\n",
       "      <td>1</td>\n",
       "      <td>1.000</td>\n",
       "      <td>...</td>\n",
       "      <td>0</td>\n",
       "      <td>0</td>\n",
       "      <td>0</td>\n",
       "      <td>0</td>\n",
       "      <td>0</td>\n",
       "      <td>0</td>\n",
       "      <td>0</td>\n",
       "      <td>0</td>\n",
       "      <td>0</td>\n",
       "      <td>1</td>\n",
       "    </tr>\n",
       "    <tr>\n",
       "      <th>1</th>\n",
       "      <td>6.7</td>\n",
       "      <td>362</td>\n",
       "      <td>1647</td>\n",
       "      <td>1</td>\n",
       "      <td>1</td>\n",
       "      <td>1</td>\n",
       "      <td>1</td>\n",
       "      <td>1</td>\n",
       "      <td>1</td>\n",
       "      <td>0.997</td>\n",
       "      <td>...</td>\n",
       "      <td>0</td>\n",
       "      <td>0</td>\n",
       "      <td>0</td>\n",
       "      <td>0</td>\n",
       "      <td>0</td>\n",
       "      <td>0</td>\n",
       "      <td>0</td>\n",
       "      <td>0</td>\n",
       "      <td>0</td>\n",
       "      <td>1</td>\n",
       "    </tr>\n",
       "    <tr>\n",
       "      <th>5</th>\n",
       "      <td>4.6</td>\n",
       "      <td>961</td>\n",
       "      <td>1159</td>\n",
       "      <td>1</td>\n",
       "      <td>1</td>\n",
       "      <td>1</td>\n",
       "      <td>1</td>\n",
       "      <td>1</td>\n",
       "      <td>1</td>\n",
       "      <td>1.000</td>\n",
       "      <td>...</td>\n",
       "      <td>0</td>\n",
       "      <td>0</td>\n",
       "      <td>0</td>\n",
       "      <td>0</td>\n",
       "      <td>0</td>\n",
       "      <td>0</td>\n",
       "      <td>0</td>\n",
       "      <td>0</td>\n",
       "      <td>0</td>\n",
       "      <td>1</td>\n",
       "    </tr>\n",
       "    <tr>\n",
       "      <th>8</th>\n",
       "      <td>32.5</td>\n",
       "      <td>638</td>\n",
       "      <td>5760</td>\n",
       "      <td>1</td>\n",
       "      <td>1</td>\n",
       "      <td>1</td>\n",
       "      <td>1</td>\n",
       "      <td>1</td>\n",
       "      <td>1</td>\n",
       "      <td>0.998</td>\n",
       "      <td>...</td>\n",
       "      <td>0</td>\n",
       "      <td>0</td>\n",
       "      <td>0</td>\n",
       "      <td>0</td>\n",
       "      <td>0</td>\n",
       "      <td>0</td>\n",
       "      <td>0</td>\n",
       "      <td>0</td>\n",
       "      <td>0</td>\n",
       "      <td>1</td>\n",
       "    </tr>\n",
       "    <tr>\n",
       "      <th>9</th>\n",
       "      <td>4.6</td>\n",
       "      <td>318</td>\n",
       "      <td>2880</td>\n",
       "      <td>1</td>\n",
       "      <td>1</td>\n",
       "      <td>1</td>\n",
       "      <td>1</td>\n",
       "      <td>1</td>\n",
       "      <td>1</td>\n",
       "      <td>1.000</td>\n",
       "      <td>...</td>\n",
       "      <td>0</td>\n",
       "      <td>0</td>\n",
       "      <td>0</td>\n",
       "      <td>0</td>\n",
       "      <td>0</td>\n",
       "      <td>0</td>\n",
       "      <td>0</td>\n",
       "      <td>0</td>\n",
       "      <td>0</td>\n",
       "      <td>1</td>\n",
       "    </tr>\n",
       "  </tbody>\n",
       "</table>\n",
       "<p>5 rows × 2743 columns</p>\n",
       "</div>"
      ],
      "text/plain": [
       "   SETUP_TIME  CYCLES  TESTED_UNITS  RESCREEN_RULE  MSE_RULE  SPC_RULE  \\\n",
       "0        10.7     423          1888              1         1         1   \n",
       "1         6.7     362          1647              1         1         1   \n",
       "5         4.6     961          1159              1         1         1   \n",
       "8        32.5     638          5760              1         1         1   \n",
       "9         4.6     318          2880              1         1         1   \n",
       "\n",
       "   INDEX_RULE  MCBJ_RULE  SETUPTIME_RULE  MSE_UNIT            ...             \\\n",
       "0           1          1               1     1.000            ...              \n",
       "1           1          1               1     0.997            ...              \n",
       "5           1          1               1     1.000            ...              \n",
       "8           1          1               1     0.998            ...              \n",
       "9           1          1               1     1.000            ...              \n",
       "\n",
       "   TESTERHEAD_vl71_1  TESTERHEAD_vl76_1  TESTERHEAD_vl76_2  TESTERHEAD_vl91_1  \\\n",
       "0                  0                  0                  0                  0   \n",
       "1                  0                  0                  0                  0   \n",
       "5                  0                  0                  0                  0   \n",
       "8                  0                  0                  0                  0   \n",
       "9                  0                  0                  0                  0   \n",
       "\n",
       "   TESTERHEAD_vl93_1  TESTERHEAD_vl95_1  TESTERHEAD_vl98_1  TESTERHEAD_vl99_1  \\\n",
       "0                  0                  0                  0                  0   \n",
       "1                  0                  0                  0                  0   \n",
       "5                  0                  0                  0                  0   \n",
       "8                  0                  0                  0                  0   \n",
       "9                  0                  0                  0                  0   \n",
       "\n",
       "   TESTERHEAD_vl9_1  LOTSCREENTYPE_FIRST_PASS  \n",
       "0                 0                         1  \n",
       "1                 0                         1  \n",
       "5                 0                         1  \n",
       "8                 0                         1  \n",
       "9                 0                         1  \n",
       "\n",
       "[5 rows x 2743 columns]"
      ]
     },
     "execution_count": 60,
     "metadata": {},
     "output_type": "execute_result"
    }
   ],
   "source": [
    "# Now need to one hot encode all the stuff in X that is categorical. \n",
    "X = pd.get_dummies(X)\n",
    "X.head()"
   ]
  },
  {
   "cell_type": "code",
   "execution_count": 62,
   "metadata": {},
   "outputs": [
    {
     "name": "stdout",
     "output_type": "stream",
     "text": [
      "5967 5967 1989 1989\n"
     ]
    }
   ],
   "source": [
    "from sklearn.model_selection import train_test_split\n",
    "\n",
    "X_train, X_test, y_train, y_test = train_test_split(X, y, random_state=20)\n",
    "\n",
    "print(len(X_train), len(y_train), len(X_test), len(y_test))"
   ]
  },
  {
   "cell_type": "code",
   "execution_count": 63,
   "metadata": {},
   "outputs": [
    {
     "name": "stdout",
     "output_type": "stream",
     "text": [
      "5967 (5967, 2743) (5967, 1)\n"
     ]
    }
   ],
   "source": [
    "print(len(X_train), X_train.shape, y_train.shape)"
   ]
  },
  {
   "cell_type": "code",
   "execution_count": 64,
   "metadata": {},
   "outputs": [],
   "source": [
    "from sklearn.preprocessing import StandardScaler\n",
    "X_scaler = StandardScaler().fit(X_train)\n",
    "y_scaler = StandardScaler().fit(y_train)"
   ]
  },
  {
   "cell_type": "code",
   "execution_count": 65,
   "metadata": {},
   "outputs": [],
   "source": [
    "X_train_scaled = X_scaler.transform(X_train)\n",
    "X_test_scaled = X_scaler.transform(X_test)\n",
    "y_train_scaled = y_scaler.transform(y_train)\n",
    "y_test_scaled = y_scaler.transform(y_test)"
   ]
  },
  {
   "cell_type": "code",
   "execution_count": 66,
   "metadata": {},
   "outputs": [
    {
     "name": "stdout",
     "output_type": "stream",
     "text": [
      "5967 5967 1989 1989\n"
     ]
    }
   ],
   "source": [
    "print(len(X_train_scaled), len(y_train_scaled), len(X_test_scaled), len(y_test_scaled))"
   ]
  },
  {
   "cell_type": "code",
   "execution_count": 67,
   "metadata": {},
   "outputs": [
    {
     "name": "stdout",
     "output_type": "stream",
     "text": [
      "R2 Score: 0.6623941696857323\n"
     ]
    }
   ],
   "source": [
    "from sklearn.linear_model import Ridge\n",
    "model = Ridge(alpha=9, max_iter=100)\n",
    "\n",
    "# Fitting our model with all of our features in X\n",
    "model.fit(X_train, y_train)\n",
    "\n",
    "score = model.score(X_train, y_train)\n",
    "print(f\"R2 Score: {score}\")"
   ]
  },
  {
   "cell_type": "code",
   "execution_count": 68,
   "metadata": {},
   "outputs": [
    {
     "name": "stdout",
     "output_type": "stream",
     "text": [
      "R2 Score: 0.5040719452198023\n"
     ]
    }
   ],
   "source": [
    "score = model.score(X_test, y_test)\n",
    "print(f\"R2 Score: {score}\")"
   ]
  },
  {
   "cell_type": "code",
   "execution_count": 69,
   "metadata": {},
   "outputs": [
    {
     "data": {
      "image/png": "[encoded data removed]",
      "text/plain": [
       "<matplotlib.figure.Figure at 0x486cf2b0>"
      ]
     },
     "metadata": {},
     "output_type": "display_data"
    }
   ],
   "source": [
    "predictions = model.predict(X_train)\n",
    "plt.scatter(predictions, predictions - y_train)\n",
    "plt.hlines(y=0, xmin=predictions.min(), xmax=predictions.max())\n",
    "plt.show()"
   ]
  },
  {
   "cell_type": "code",
   "execution_count": 70,
   "metadata": {
    "scrolled": true
   },
   "outputs": [
    {
     "data": {
      "image/png": "[encoded data removed]",
      "text/plain": [
       "<matplotlib.figure.Figure at 0x486cd908>"
      ]
     },
     "metadata": {},
     "output_type": "display_data"
    }
   ],
   "source": [
    "predictions = model.predict(X_test)\n",
    "plt.scatter(predictions, predictions - y_test)\n",
    "plt.hlines(y=0, xmin=predictions.min(), xmax=predictions.max())\n",
    "plt.show()"
   ]
  },
  {
   "cell_type": "code",
   "execution_count": 71,
   "metadata": {},
   "outputs": [
    {
     "data": {
      "text/plain": [
       "1989"
      ]
     },
     "execution_count": 71,
     "metadata": {},
     "output_type": "execute_result"
    }
   ],
   "source": [
    "len(y_test)"
   ]
  },
  {
   "cell_type": "code",
   "execution_count": 72,
   "metadata": {},
   "outputs": [
    {
     "data": {
      "text/plain": [
       "array([[0.85938204],\n",
       "       [0.87968845],\n",
       "       [0.98396142],\n",
       "       ...,\n",
       "       [0.90171404],\n",
       "       [1.00685447],\n",
       "       [0.84600284]])"
      ]
     },
     "execution_count": 72,
     "metadata": {},
     "output_type": "execute_result"
    }
   ],
   "source": [
    "predictions"
   ]
  },
  {
   "cell_type": "code",
   "execution_count": 73,
   "metadata": {},
   "outputs": [],
   "source": [
    "test_df = X_test.copy()\n",
    "test_df[\"MSYE\"] = y_test\n",
    "test_df[\"Predictions\"] = predictions"
   ]
  },
  {
   "cell_type": "code",
   "execution_count": 74,
   "metadata": {},
   "outputs": [],
   "source": [
    "test_df.to_csv(\"data/product_test_data_RidgeRegression.csv\")"
   ]
  },
  {
   "cell_type": "code",
   "execution_count": 75,
   "metadata": {},
   "outputs": [
    {
     "data": {
      "text/plain": [
       "array([[-4.41418266e-06, -7.95274580e-06,  3.40209972e-06, ...,\n",
       "         1.21695751e-03, -2.25049258e-02,  0.00000000e+00]])"
      ]
     },
     "execution_count": 75,
     "metadata": {},
     "output_type": "execute_result"
    }
   ],
   "source": [
    "model.coef_\n"
   ]
  },
  {
   "cell_type": "code",
   "execution_count": 76,
   "metadata": {},
   "outputs": [
    {
     "data": {
      "text/html": [
       "<div>\n",
       "<style scoped>\n",
       "    .dataframe tbody tr th:only-of-type {\n",
       "        vertical-align: middle;\n",
       "    }\n",
       "\n",
       "    .dataframe tbody tr th {\n",
       "        vertical-align: top;\n",
       "    }\n",
       "\n",
       "    .dataframe thead th {\n",
       "        text-align: right;\n",
       "    }\n",
       "</style>\n",
       "<table border=\"1\" class=\"dataframe\">\n",
       "  <thead>\n",
       "    <tr style=\"text-align: right;\">\n",
       "      <th></th>\n",
       "      <th>Coefficients</th>\n",
       "      <th>Feature</th>\n",
       "    </tr>\n",
       "  </thead>\n",
       "  <tbody>\n",
       "    <tr>\n",
       "      <th>0</th>\n",
       "      <td>-4.414183e-06</td>\n",
       "      <td>SETUP_TIME</td>\n",
       "    </tr>\n",
       "    <tr>\n",
       "      <th>1</th>\n",
       "      <td>-7.952746e-06</td>\n",
       "      <td>CYCLES</td>\n",
       "    </tr>\n",
       "    <tr>\n",
       "      <th>2</th>\n",
       "      <td>3.402100e-06</td>\n",
       "      <td>TESTED_UNITS</td>\n",
       "    </tr>\n",
       "    <tr>\n",
       "      <th>3</th>\n",
       "      <td>4.314340e-02</td>\n",
       "      <td>RESCREEN_RULE</td>\n",
       "    </tr>\n",
       "    <tr>\n",
       "      <th>4</th>\n",
       "      <td>-2.472786e-02</td>\n",
       "      <td>MSE_RULE</td>\n",
       "    </tr>\n",
       "    <tr>\n",
       "      <th>5</th>\n",
       "      <td>1.796645e-02</td>\n",
       "      <td>SPC_RULE</td>\n",
       "    </tr>\n",
       "    <tr>\n",
       "      <th>6</th>\n",
       "      <td>-2.242510e-03</td>\n",
       "      <td>INDEX_RULE</td>\n",
       "    </tr>\n",
       "    <tr>\n",
       "      <th>7</th>\n",
       "      <td>4.026895e-03</td>\n",
       "      <td>MCBJ_RULE</td>\n",
       "    </tr>\n",
       "    <tr>\n",
       "      <th>8</th>\n",
       "      <td>2.238784e-03</td>\n",
       "      <td>SETUPTIME_RULE</td>\n",
       "    </tr>\n",
       "    <tr>\n",
       "      <th>9</th>\n",
       "      <td>-4.814146e-02</td>\n",
       "      <td>MSE_UNIT</td>\n",
       "    </tr>\n",
       "    <tr>\n",
       "      <th>10</th>\n",
       "      <td>2.635355e-03</td>\n",
       "      <td>JAM_COUNT</td>\n",
       "    </tr>\n",
       "    <tr>\n",
       "      <th>11</th>\n",
       "      <td>1.543843e-06</td>\n",
       "      <td>MCBJ</td>\n",
       "    </tr>\n",
       "    <tr>\n",
       "      <th>12</th>\n",
       "      <td>1.062037e-04</td>\n",
       "      <td>TEMP</td>\n",
       "    </tr>\n",
       "    <tr>\n",
       "      <th>13</th>\n",
       "      <td>-5.175508e-08</td>\n",
       "      <td>HANDLR_ID</td>\n",
       "    </tr>\n",
       "    <tr>\n",
       "      <th>14</th>\n",
       "      <td>-1.106577e-02</td>\n",
       "      <td>PKG_CHANGE</td>\n",
       "    </tr>\n",
       "    <tr>\n",
       "      <th>15</th>\n",
       "      <td>-6.364761e-03</td>\n",
       "      <td>LBID_CHANGE</td>\n",
       "    </tr>\n",
       "    <tr>\n",
       "      <th>16</th>\n",
       "      <td>3.144655e-03</td>\n",
       "      <td>PRODUCT_CHANGE</td>\n",
       "    </tr>\n",
       "    <tr>\n",
       "      <th>17</th>\n",
       "      <td>-3.107140e-03</td>\n",
       "      <td>PROGRAM_CHANGE</td>\n",
       "    </tr>\n",
       "    <tr>\n",
       "      <th>18</th>\n",
       "      <td>-5.638372e-03</td>\n",
       "      <td>TEMP_CHANGE</td>\n",
       "    </tr>\n",
       "    <tr>\n",
       "      <th>19</th>\n",
       "      <td>-1.509671e-03</td>\n",
       "      <td>HANDLER_CHANGE</td>\n",
       "    </tr>\n",
       "    <tr>\n",
       "      <th>20</th>\n",
       "      <td>7.769575e-04</td>\n",
       "      <td>OEE_PERCENT</td>\n",
       "    </tr>\n",
       "    <tr>\n",
       "      <th>21</th>\n",
       "      <td>-5.178399e-03</td>\n",
       "      <td>PGM_SITES</td>\n",
       "    </tr>\n",
       "    <tr>\n",
       "      <th>22</th>\n",
       "      <td>3.299939e-05</td>\n",
       "      <td>HANDLER_DIAGNOSTICS_COUNT</td>\n",
       "    </tr>\n",
       "    <tr>\n",
       "      <th>23</th>\n",
       "      <td>6.340381e-04</td>\n",
       "      <td>LOT_RUN_TIME_HOURS</td>\n",
       "    </tr>\n",
       "    <tr>\n",
       "      <th>24</th>\n",
       "      <td>2.481557e-02</td>\n",
       "      <td>LOTRUNTIME_RULE</td>\n",
       "    </tr>\n",
       "    <tr>\n",
       "      <th>25</th>\n",
       "      <td>2.378750e-04</td>\n",
       "      <td>DIB_DIAG_COUNT</td>\n",
       "    </tr>\n",
       "    <tr>\n",
       "      <th>26</th>\n",
       "      <td>-1.897494e-02</td>\n",
       "      <td>TESTERTYPE_93K</td>\n",
       "    </tr>\n",
       "    <tr>\n",
       "      <th>27</th>\n",
       "      <td>-1.173150e-02</td>\n",
       "      <td>TESTERTYPE_FUSION</td>\n",
       "    </tr>\n",
       "    <tr>\n",
       "      <th>28</th>\n",
       "      <td>2.815423e-03</td>\n",
       "      <td>TESTERTYPE_IFLEX</td>\n",
       "    </tr>\n",
       "    <tr>\n",
       "      <th>29</th>\n",
       "      <td>2.148871e-02</td>\n",
       "      <td>TESTERTYPE_J750</td>\n",
       "    </tr>\n",
       "    <tr>\n",
       "      <th>...</th>\n",
       "      <td>...</td>\n",
       "      <td>...</td>\n",
       "    </tr>\n",
       "    <tr>\n",
       "      <th>2713</th>\n",
       "      <td>1.692068e-02</td>\n",
       "      <td>TESTERHEAD_vl489_1</td>\n",
       "    </tr>\n",
       "    <tr>\n",
       "      <th>2714</th>\n",
       "      <td>-2.286120e-03</td>\n",
       "      <td>TESTERHEAD_vl492_1</td>\n",
       "    </tr>\n",
       "    <tr>\n",
       "      <th>2715</th>\n",
       "      <td>5.590673e-03</td>\n",
       "      <td>TESTERHEAD_vl497_1</td>\n",
       "    </tr>\n",
       "    <tr>\n",
       "      <th>2716</th>\n",
       "      <td>-2.118127e-04</td>\n",
       "      <td>TESTERHEAD_vl49_1</td>\n",
       "    </tr>\n",
       "    <tr>\n",
       "      <th>2717</th>\n",
       "      <td>-2.570613e-06</td>\n",
       "      <td>TESTERHEAD_vl500_1</td>\n",
       "    </tr>\n",
       "    <tr>\n",
       "      <th>2718</th>\n",
       "      <td>8.739351e-03</td>\n",
       "      <td>TESTERHEAD_vl512_1</td>\n",
       "    </tr>\n",
       "    <tr>\n",
       "      <th>2719</th>\n",
       "      <td>5.036698e-03</td>\n",
       "      <td>TESTERHEAD_vl517_1</td>\n",
       "    </tr>\n",
       "    <tr>\n",
       "      <th>2720</th>\n",
       "      <td>-1.850640e-03</td>\n",
       "      <td>TESTERHEAD_vl520_1</td>\n",
       "    </tr>\n",
       "    <tr>\n",
       "      <th>2721</th>\n",
       "      <td>-3.356674e-03</td>\n",
       "      <td>TESTERHEAD_vl523_1</td>\n",
       "    </tr>\n",
       "    <tr>\n",
       "      <th>2722</th>\n",
       "      <td>1.680032e-02</td>\n",
       "      <td>TESTERHEAD_vl52_1</td>\n",
       "    </tr>\n",
       "    <tr>\n",
       "      <th>2723</th>\n",
       "      <td>-6.836234e-03</td>\n",
       "      <td>TESTERHEAD_vl530_1</td>\n",
       "    </tr>\n",
       "    <tr>\n",
       "      <th>2724</th>\n",
       "      <td>-2.214320e-03</td>\n",
       "      <td>TESTERHEAD_vl533_1</td>\n",
       "    </tr>\n",
       "    <tr>\n",
       "      <th>2725</th>\n",
       "      <td>3.281897e-03</td>\n",
       "      <td>TESTERHEAD_vl536_1</td>\n",
       "    </tr>\n",
       "    <tr>\n",
       "      <th>2726</th>\n",
       "      <td>5.524771e-03</td>\n",
       "      <td>TESTERHEAD_vl537_1</td>\n",
       "    </tr>\n",
       "    <tr>\n",
       "      <th>2727</th>\n",
       "      <td>3.327008e-03</td>\n",
       "      <td>TESTERHEAD_vl538_1</td>\n",
       "    </tr>\n",
       "    <tr>\n",
       "      <th>2728</th>\n",
       "      <td>4.921173e-03</td>\n",
       "      <td>TESTERHEAD_vl56_1</td>\n",
       "    </tr>\n",
       "    <tr>\n",
       "      <th>2729</th>\n",
       "      <td>2.025449e-03</td>\n",
       "      <td>TESTERHEAD_vl57_1</td>\n",
       "    </tr>\n",
       "    <tr>\n",
       "      <th>2730</th>\n",
       "      <td>3.265834e-03</td>\n",
       "      <td>TESTERHEAD_vl5_1</td>\n",
       "    </tr>\n",
       "    <tr>\n",
       "      <th>2731</th>\n",
       "      <td>-6.217012e-04</td>\n",
       "      <td>TESTERHEAD_vl63_1</td>\n",
       "    </tr>\n",
       "    <tr>\n",
       "      <th>2732</th>\n",
       "      <td>-1.837940e-03</td>\n",
       "      <td>TESTERHEAD_vl6_1</td>\n",
       "    </tr>\n",
       "    <tr>\n",
       "      <th>2733</th>\n",
       "      <td>6.980329e-03</td>\n",
       "      <td>TESTERHEAD_vl71_1</td>\n",
       "    </tr>\n",
       "    <tr>\n",
       "      <th>2734</th>\n",
       "      <td>3.045765e-03</td>\n",
       "      <td>TESTERHEAD_vl76_1</td>\n",
       "    </tr>\n",
       "    <tr>\n",
       "      <th>2735</th>\n",
       "      <td>-1.126371e-03</td>\n",
       "      <td>TESTERHEAD_vl76_2</td>\n",
       "    </tr>\n",
       "    <tr>\n",
       "      <th>2736</th>\n",
       "      <td>-1.884351e-02</td>\n",
       "      <td>TESTERHEAD_vl91_1</td>\n",
       "    </tr>\n",
       "    <tr>\n",
       "      <th>2737</th>\n",
       "      <td>2.295821e-03</td>\n",
       "      <td>TESTERHEAD_vl93_1</td>\n",
       "    </tr>\n",
       "    <tr>\n",
       "      <th>2738</th>\n",
       "      <td>-3.093008e-02</td>\n",
       "      <td>TESTERHEAD_vl95_1</td>\n",
       "    </tr>\n",
       "    <tr>\n",
       "      <th>2739</th>\n",
       "      <td>7.371725e-03</td>\n",
       "      <td>TESTERHEAD_vl98_1</td>\n",
       "    </tr>\n",
       "    <tr>\n",
       "      <th>2740</th>\n",
       "      <td>1.216958e-03</td>\n",
       "      <td>TESTERHEAD_vl99_1</td>\n",
       "    </tr>\n",
       "    <tr>\n",
       "      <th>2741</th>\n",
       "      <td>-2.250493e-02</td>\n",
       "      <td>TESTERHEAD_vl9_1</td>\n",
       "    </tr>\n",
       "    <tr>\n",
       "      <th>2742</th>\n",
       "      <td>0.000000e+00</td>\n",
       "      <td>LOTSCREENTYPE_FIRST_PASS</td>\n",
       "    </tr>\n",
       "  </tbody>\n",
       "</table>\n",
       "<p>2743 rows × 2 columns</p>\n",
       "</div>"
      ],
      "text/plain": [
       "      Coefficients                    Feature\n",
       "0    -4.414183e-06                 SETUP_TIME\n",
       "1    -7.952746e-06                     CYCLES\n",
       "2     3.402100e-06               TESTED_UNITS\n",
       "3     4.314340e-02              RESCREEN_RULE\n",
       "4    -2.472786e-02                   MSE_RULE\n",
       "5     1.796645e-02                   SPC_RULE\n",
       "6    -2.242510e-03                 INDEX_RULE\n",
       "7     4.026895e-03                  MCBJ_RULE\n",
       "8     2.238784e-03             SETUPTIME_RULE\n",
       "9    -4.814146e-02                   MSE_UNIT\n",
       "10    2.635355e-03                  JAM_COUNT\n",
       "11    1.543843e-06                       MCBJ\n",
       "12    1.062037e-04                       TEMP\n",
       "13   -5.175508e-08                  HANDLR_ID\n",
       "14   -1.106577e-02                 PKG_CHANGE\n",
       "15   -6.364761e-03                LBID_CHANGE\n",
       "16    3.144655e-03             PRODUCT_CHANGE\n",
       "17   -3.107140e-03             PROGRAM_CHANGE\n",
       "18   -5.638372e-03                TEMP_CHANGE\n",
       "19   -1.509671e-03             HANDLER_CHANGE\n",
       "20    7.769575e-04                OEE_PERCENT\n",
       "21   -5.178399e-03                  PGM_SITES\n",
       "22    3.299939e-05  HANDLER_DIAGNOSTICS_COUNT\n",
       "23    6.340381e-04         LOT_RUN_TIME_HOURS\n",
       "24    2.481557e-02            LOTRUNTIME_RULE\n",
       "25    2.378750e-04             DIB_DIAG_COUNT\n",
       "26   -1.897494e-02             TESTERTYPE_93K\n",
       "27   -1.173150e-02          TESTERTYPE_FUSION\n",
       "28    2.815423e-03           TESTERTYPE_IFLEX\n",
       "29    2.148871e-02            TESTERTYPE_J750\n",
       "...            ...                        ...\n",
       "2713  1.692068e-02         TESTERHEAD_vl489_1\n",
       "2714 -2.286120e-03         TESTERHEAD_vl492_1\n",
       "2715  5.590673e-03         TESTERHEAD_vl497_1\n",
       "2716 -2.118127e-04          TESTERHEAD_vl49_1\n",
       "2717 -2.570613e-06         TESTERHEAD_vl500_1\n",
       "2718  8.739351e-03         TESTERHEAD_vl512_1\n",
       "2719  5.036698e-03         TESTERHEAD_vl517_1\n",
       "2720 -1.850640e-03         TESTERHEAD_vl520_1\n",
       "2721 -3.356674e-03         TESTERHEAD_vl523_1\n",
       "2722  1.680032e-02          TESTERHEAD_vl52_1\n",
       "2723 -6.836234e-03         TESTERHEAD_vl530_1\n",
       "2724 -2.214320e-03         TESTERHEAD_vl533_1\n",
       "2725  3.281897e-03         TESTERHEAD_vl536_1\n",
       "2726  5.524771e-03         TESTERHEAD_vl537_1\n",
       "2727  3.327008e-03         TESTERHEAD_vl538_1\n",
       "2728  4.921173e-03          TESTERHEAD_vl56_1\n",
       "2729  2.025449e-03          TESTERHEAD_vl57_1\n",
       "2730  3.265834e-03           TESTERHEAD_vl5_1\n",
       "2731 -6.217012e-04          TESTERHEAD_vl63_1\n",
       "2732 -1.837940e-03           TESTERHEAD_vl6_1\n",
       "2733  6.980329e-03          TESTERHEAD_vl71_1\n",
       "2734  3.045765e-03          TESTERHEAD_vl76_1\n",
       "2735 -1.126371e-03          TESTERHEAD_vl76_2\n",
       "2736 -1.884351e-02          TESTERHEAD_vl91_1\n",
       "2737  2.295821e-03          TESTERHEAD_vl93_1\n",
       "2738 -3.093008e-02          TESTERHEAD_vl95_1\n",
       "2739  7.371725e-03          TESTERHEAD_vl98_1\n",
       "2740  1.216958e-03          TESTERHEAD_vl99_1\n",
       "2741 -2.250493e-02           TESTERHEAD_vl9_1\n",
       "2742  0.000000e+00   LOTSCREENTYPE_FIRST_PASS\n",
       "\n",
       "[2743 rows x 2 columns]"
      ]
     },
     "execution_count": 76,
     "metadata": {},
     "output_type": "execute_result"
    }
   ],
   "source": [
    "coefficients = pd.DataFrame({\"Feature\":X.columns,\"Coefficients\":np.transpose(model.coef_[0])})\n",
    "coefficients"
   ]
  },
  {
   "cell_type": "code",
   "execution_count": 77,
   "metadata": {},
   "outputs": [],
   "source": [
    "coefficients.to_csv(\"data/product_test_coefficients.csv\")"
   ]
  },
  {
   "cell_type": "code",
   "execution_count": 78,
   "metadata": {},
   "outputs": [
    {
     "name": "stderr",
     "output_type": "stream",
     "text": [
      "C:\\Anaconda3\\lib\\site-packages\\scipy\\linalg\\basic.py:40: RuntimeWarning: scipy.linalg.solve\n",
      "Ill-conditioned matrix detected. Result is not guaranteed to be accurate.\n",
      "Reciprocal condition number/precision: 7.304802975751901e-17 / 1.1102230246251565e-16\n",
      "  RuntimeWarning)\n"
     ]
    },
    {
     "name": "stdout",
     "output_type": "stream",
     "text": [
      "LogReg Count accuracy at alpha=0.0001: 0.45954740906378094\n",
      "LogReg Count accuracy at alpha=0.001: 0.45958958748861833\n",
      "LogReg Count accuracy at alpha=0.01: 0.46000653634616673\n",
      "LogReg Count accuracy at alpha=0.1: 0.4637591245468927\n",
      "LogReg Count accuracy at alpha=0.2: 0.4672403015737925\n",
      "LogReg Count accuracy at alpha=0.3: 0.470194126034312\n",
      "LogReg Count accuracy at alpha=0.4: 0.47274561848981067\n",
      "LogReg Count accuracy at alpha=0.5: 0.47497853834247034\n",
      "LogReg Count accuracy at alpha=0.6: 0.4769528519778967\n",
      "LogReg Count accuracy at alpha=0.7: 0.4787133887649509\n",
      "LogReg Count accuracy at alpha=0.8: 0.48029468355138555\n",
      "LogReg Count accuracy at alpha=0.9: 0.4817239364769749\n",
      "LogReg Count accuracy at alpha=1: 0.4830229428240698\n",
      "LogReg Count accuracy at alpha=5: 0.5008957854642493\n",
      "LogReg Count accuracy at alpha=6: 0.5021884409684418\n",
      "LogReg Count accuracy at alpha=7: 0.5030801113804986\n",
      "LogReg Count accuracy at alpha=8: 0.5036838181346343\n",
      "LogReg Count accuracy at alpha=9: 0.5040719452198023\n",
      "LogReg Count accuracy at alpha=10: 0.5042936169922544\n",
      "LogReg Count accuracy at alpha=15: 0.5038572244264068\n",
      "LogReg Count accuracy at alpha=20: 0.502067777606481\n",
      "LogReg Count accuracy at alpha=30: 0.49699847738965075\n",
      "LogReg Count accuracy at alpha=40: 0.4913304858172273\n",
      "LogReg Count accuracy at alpha=50: 0.48563117409732726\n",
      "LogReg Count accuracy at alpha=100: 0.46005475308406013\n"
     ]
    },
    {
     "data": {
      "text/plain": [
       "<matplotlib.collections.PathCollection at 0x35dfc630>"
      ]
     },
     "execution_count": 78,
     "metadata": {},
     "output_type": "execute_result"
    },
    {
     "data": {
      "image/png": "[encoded data removed]",
      "text/plain": [
       "<matplotlib.figure.Figure at 0x48d854a8>"
      ]
     },
     "metadata": {},
     "output_type": "display_data"
    }
   ],
   "source": [
    "from sklearn.linear_model import Ridge\n",
    "alpha_vals = [0.0001,0.001,0.01,0.1,0.2,0.3,0.4,0.5,0.6, 0.7, 0.8, 0.9,1,5,6,7,8,9,10,15,20,30,40,50,100]\n",
    "scores = []\n",
    "for i in alpha_vals:\n",
    "    model = Ridge(alpha=i)\n",
    "    # Fitting our model with all of our features in X\n",
    "    model.fit(X_train, y_train)\n",
    "    accuracy = model.score(X_test, y_test)\n",
    "    scores.append(accuracy)\n",
    "    print(f\"LogReg Count accuracy at alpha={i}: {accuracy}\")\n",
    "    \n",
    "plt.scatter(alpha_vals, scores)"
   ]
  },
  {
   "cell_type": "code",
   "execution_count": null,
   "metadata": {},
   "outputs": [],
   "source": []
  }
 ],
 "metadata": {
  "kernelspec": {
   "display_name": "Python 3",
   "language": "python",
   "name": "python3"
  },
  "language_info": {
   "codemirror_mode": {
    "name": "ipython",
    "version": 3
   },
   "file_extension": ".py",
   "mimetype": "text/x-python",
   "name": "python",
   "nbconvert_exporter": "python",
   "pygments_lexer": "ipython3",
   "version": "3.6.4"
  }
 },
 "nbformat": 4,
 "nbformat_minor": 2
}
